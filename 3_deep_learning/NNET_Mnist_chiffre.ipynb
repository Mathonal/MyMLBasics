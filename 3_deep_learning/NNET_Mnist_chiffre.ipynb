{
 "cells": [
  {
   "cell_type": "code",
   "execution_count": 2,
   "metadata": {
    "scrolled": true
   },
   "outputs": [],
   "source": [
    "from keras.datasets import mnist\n",
    "from keras.models import Sequential, Model, load_model\n",
    "from keras.utils import to_categorical\n",
    "from keras.layers import Dense, Flatten, Input, BatchNormalization, Dropout\n",
    "from keras import optimizers\n",
    "from keras import regularizers\n",
    "from keras.callbacks import EarlyStopping, ModelCheckpoint"
   ]
  },
  {
   "cell_type": "code",
   "execution_count": 3,
   "metadata": {},
   "outputs": [],
   "source": [
    "import numpy as np\n",
    "import matplotlib.pyplot as plt"
   ]
  },
  {
   "cell_type": "markdown",
   "metadata": {},
   "source": [
    "### Importation de la base de données MNIST (ce sont des images de chiffres manuscrits, hello world du deep learning)"
   ]
  },
  {
   "cell_type": "code",
   "execution_count": 4,
   "metadata": {},
   "outputs": [],
   "source": [
    "(x_train, y_train), (x_test, y_test) = mnist.load_data()"
   ]
  },
  {
   "cell_type": "code",
   "execution_count": 5,
   "metadata": {},
   "outputs": [
    {
     "data": {
      "text/plain": [
       "(60000, 28, 28)"
      ]
     },
     "execution_count": 5,
     "metadata": {},
     "output_type": "execute_result"
    }
   ],
   "source": [
    "x_train.shape"
   ]
  },
  {
   "cell_type": "markdown",
   "metadata": {},
   "source": [
    "### Affichage des chiffres"
   ]
  },
  {
   "cell_type": "code",
   "execution_count": 5,
   "metadata": {
    "scrolled": true
   },
   "outputs": [
    {
     "data": {
      "text/plain": [
       "<matplotlib.image.AxesImage at 0x7fdcf54d15d0>"
      ]
     },
     "execution_count": 5,
     "metadata": {},
     "output_type": "execute_result"
    },
    {
     "data": {
      "image/png": "[encoded data removed]",
      "text/plain": [
       "<Figure size 432x288 with 1 Axes>"
      ]
     },
     "metadata": {
      "needs_background": "light"
     },
     "output_type": "display_data"
    }
   ],
   "source": [
    "r = np.random.randint(x_train.shape[0])\n",
    "\n",
    "plt.imshow(x_train[r],cmap = \"hot\")"
   ]
  },
  {
   "cell_type": "markdown",
   "metadata": {},
   "source": [
    "### Normalisation des données"
   ]
  },
  {
   "cell_type": "code",
   "execution_count": 6,
   "metadata": {},
   "outputs": [],
   "source": [
    "x_train = x_train/255\n",
    "\n",
    "x_test = x_test/255"
   ]
  },
  {
   "cell_type": "markdown",
   "metadata": {},
   "source": [
    "###  Passage des données (0,1,2,3...) en catégories. Exemple : 3 devient (0,0,0,1,0,0,0,0,0,0)"
   ]
  },
  {
   "cell_type": "code",
   "execution_count": 7,
   "metadata": {},
   "outputs": [],
   "source": [
    "y_train_cat = to_categorical(y_train,num_classes = 10)\n",
    "\n",
    "y_test_cat = to_categorical(y_test,num_classes = 10)"
   ]
  },
  {
   "cell_type": "markdown",
   "metadata": {},
   "source": [
    "### Construction du réseau"
   ]
  },
  {
   "cell_type": "code",
   "execution_count": 8,
   "metadata": {},
   "outputs": [],
   "source": [
    "model = Sequential()\n",
    "model.add(Flatten(input_shape = (28,28))) #Passage de tableau 2D à 1D"
   ]
  },
  {
   "cell_type": "code",
   "execution_count": 9,
   "metadata": {},
   "outputs": [],
   "source": [
    "model.add(Dense(128,activation = \"relu\", kernel_initializer = \"he_normal\",kernel_regularizer = regularizers.l2(0.01)))\n",
    "model.add(Dropout(0.1))\n",
    "model.add(BatchNormalization())\n",
    "model.add(Dense(128,activation = \"relu\", kernel_initializer = \"he_normal\",kernel_regularizer = regularizers.l2(0.01)))\n",
    "model.add(Dropout(0.1))\n",
    "model.add(BatchNormalization())\n",
    "model.add(Dense(10,activation = \"softmax\", kernel_initializer = \"he_normal\",kernel_regularizer = regularizers.l2(0.01)))"
   ]
  },
  {
   "cell_type": "markdown",
   "metadata": {},
   "source": [
    "### Optimizer et loss function"
   ]
  },
  {
   "cell_type": "code",
   "execution_count": 10,
   "metadata": {},
   "outputs": [],
   "source": [
    "opt = optimizers.SGD(lr = 0.01)"
   ]
  },
  {
   "cell_type": "code",
   "execution_count": 11,
   "metadata": {},
   "outputs": [],
   "source": [
    "model.compile(loss = \"binary_crossentropy\",optimizer = opt, metrics = ['categorical_accuracy'])"
   ]
  },
  {
   "cell_type": "markdown",
   "metadata": {},
   "source": [
    "### Affichage de l'architecture du réseau "
   ]
  },
  {
   "cell_type": "code",
   "execution_count": 12,
   "metadata": {},
   "outputs": [
    {
     "name": "stdout",
     "output_type": "stream",
     "text": [
      "Model: \"sequential\"\n",
      "_________________________________________________________________\n",
      "Layer (type)                 Output Shape              Param #   \n",
      "=================================================================\n",
      "flatten (Flatten)            (None, 784)               0         \n",
      "_________________________________________________________________\n",
      "dense (Dense)                (None, 128)               100480    \n",
      "_________________________________________________________________\n",
      "dropout (Dropout)            (None, 128)               0         \n",
      "_________________________________________________________________\n",
      "batch_normalization (BatchNo (None, 128)               512       \n",
      "_________________________________________________________________\n",
      "dense_1 (Dense)              (None, 128)               16512     \n",
      "_________________________________________________________________\n",
      "dropout_1 (Dropout)          (None, 128)               0         \n",
      "_________________________________________________________________\n",
      "batch_normalization_1 (Batch (None, 128)               512       \n",
      "_________________________________________________________________\n",
      "dense_2 (Dense)              (None, 10)                1290      \n",
      "=================================================================\n",
      "Total params: 119,306\n",
      "Trainable params: 118,794\n",
      "Non-trainable params: 512\n",
      "_________________________________________________________________\n",
      "None\n"
     ]
    }
   ],
   "source": [
    "print(model.summary())"
   ]
  },
  {
   "cell_type": "markdown",
   "metadata": {},
   "source": [
    "### Mise en place du Early Stopping"
   ]
  },
  {
   "cell_type": "code",
   "execution_count": 13,
   "metadata": {},
   "outputs": [],
   "source": [
    "early_stopping = EarlyStopping(monitor = \"val_loss\",patience = 10,restore_best_weights=True)\n"
   ]
  },
  {
   "cell_type": "markdown",
   "metadata": {},
   "source": [
    "### Checkpointer pour sauvegarder le meilleur modèle"
   ]
  },
  {
   "cell_type": "code",
   "execution_count": 14,
   "metadata": {},
   "outputs": [],
   "source": [
    "checkpointer = ModelCheckpoint(filepath = \"model_exemple_nist_best.h5\",verbose = 1,save_best_only = True)"
   ]
  },
  {
   "cell_type": "markdown",
   "metadata": {},
   "source": [
    "### Apprentissage"
   ]
  },
  {
   "cell_type": "code",
   "execution_count": 15,
   "metadata": {},
   "outputs": [
    {
     "name": "stdout",
     "output_type": "stream",
     "text": [
      "Epoch 1/10\n",
      "415/422 [============================>.] - ETA: 0s - loss: 5.1432 - categorical_accuracy: 0.4713\n",
      "Epoch 00001: val_loss improved from inf to 4.63822, saving model to model_exemple_nist_best.h5\n",
      "422/422 [==============================] - 3s 7ms/step - loss: 5.1354 - categorical_accuracy: 0.4749 - val_loss: 4.6382 - val_categorical_accuracy: 0.7735\n",
      "Epoch 2/10\n",
      "421/422 [============================>.] - ETA: 0s - loss: 4.2784 - categorical_accuracy: 0.7349\n",
      "Epoch 00002: val_loss improved from 4.63822 to 3.89700, saving model to model_exemple_nist_best.h5\n",
      "422/422 [==============================] - 2s 5ms/step - loss: 4.2777 - categorical_accuracy: 0.7349 - val_loss: 3.8970 - val_categorical_accuracy: 0.8632\n",
      "Epoch 3/10\n",
      "418/422 [============================>.] - ETA: 0s - loss: 3.6133 - categorical_accuracy: 0.8084\n",
      "Epoch 00003: val_loss improved from 3.89700 to 3.29455, saving model to model_exemple_nist_best.h5\n",
      "422/422 [==============================] - 2s 5ms/step - loss: 3.6106 - categorical_accuracy: 0.8085 - val_loss: 3.2946 - val_categorical_accuracy: 0.8965\n",
      "Epoch 4/10\n",
      "418/422 [============================>.] - ETA: 0s - loss: 3.0594 - categorical_accuracy: 0.8424\n",
      "Epoch 00004: val_loss improved from 3.29455 to 2.79027, saving model to model_exemple_nist_best.h5\n",
      "422/422 [==============================] - 2s 6ms/step - loss: 3.0570 - categorical_accuracy: 0.8428 - val_loss: 2.7903 - val_categorical_accuracy: 0.9113\n",
      "Epoch 5/10\n",
      "418/422 [============================>.] - ETA: 0s - loss: 2.5947 - categorical_accuracy: 0.8620\n",
      "Epoch 00005: val_loss improved from 2.79027 to 2.36645, saving model to model_exemple_nist_best.h5\n",
      "422/422 [==============================] - 2s 5ms/step - loss: 2.5929 - categorical_accuracy: 0.8621 - val_loss: 2.3664 - val_categorical_accuracy: 0.9217\n",
      "Epoch 6/10\n",
      "416/422 [============================>.] - ETA: 0s - loss: 2.2042 - categorical_accuracy: 0.8755\n",
      "Epoch 00006: val_loss improved from 2.36645 to 2.00908, saving model to model_exemple_nist_best.h5\n",
      "422/422 [==============================] - 2s 6ms/step - loss: 2.2018 - categorical_accuracy: 0.8754 - val_loss: 2.0091 - val_categorical_accuracy: 0.9275\n",
      "Epoch 7/10\n",
      "421/422 [============================>.] - ETA: 0s - loss: 1.8721 - categorical_accuracy: 0.8885\n",
      "Epoch 00007: val_loss improved from 2.00908 to 1.70745, saving model to model_exemple_nist_best.h5\n",
      "422/422 [==============================] - 3s 8ms/step - loss: 1.8718 - categorical_accuracy: 0.8885 - val_loss: 1.7075 - val_categorical_accuracy: 0.9325\n",
      "Epoch 8/10\n",
      "414/422 [============================>.] - ETA: 0s - loss: 1.5957 - categorical_accuracy: 0.8952\n",
      "Epoch 00008: val_loss improved from 1.70745 to 1.45322, saving model to model_exemple_nist_best.h5\n",
      "422/422 [==============================] - 3s 8ms/step - loss: 1.5934 - categorical_accuracy: 0.8952 - val_loss: 1.4532 - val_categorical_accuracy: 0.9362\n",
      "Epoch 9/10\n",
      "413/422 [============================>.] - ETA: 0s - loss: 1.3604 - categorical_accuracy: 0.9021\n",
      "Epoch 00009: val_loss improved from 1.45322 to 1.23761, saving model to model_exemple_nist_best.h5\n",
      "422/422 [==============================] - 2s 6ms/step - loss: 1.3582 - categorical_accuracy: 0.9022 - val_loss: 1.2376 - val_categorical_accuracy: 0.9418\n",
      "Epoch 10/10\n",
      "413/422 [============================>.] - ETA: 0s - loss: 1.1613 - categorical_accuracy: 0.9084\n",
      "Epoch 00010: val_loss improved from 1.23761 to 1.05599, saving model to model_exemple_nist_best.h5\n",
      "422/422 [==============================] - 2s 6ms/step - loss: 1.1594 - categorical_accuracy: 0.9086 - val_loss: 1.0560 - val_categorical_accuracy: 0.9450\n"
     ]
    }
   ],
   "source": [
    "hist = model.fit(x_train,y_train_cat,epochs = 10,batch_size = 128,validation_split = 0.1,callbacks = [early_stopping,checkpointer])"
   ]
  },
  {
   "cell_type": "markdown",
   "metadata": {},
   "source": [
    " ### Affichage de l'historique de l'apprentissage"
   ]
  },
  {
   "cell_type": "code",
   "execution_count": 16,
   "metadata": {},
   "outputs": [
    {
     "data": {
      "text/plain": [
       "<matplotlib.legend.Legend at 0x7fdcac2e2790>"
      ]
     },
     "execution_count": 16,
     "metadata": {},
     "output_type": "execute_result"
    },
    {
     "data": {
      "image/png": "[encoded data removed]",
      "text/plain": [
       "<Figure size 432x288 with 2 Axes>"
      ]
     },
     "metadata": {
      "needs_background": "light"
     },
     "output_type": "display_data"
    }
   ],
   "source": [
    "figure = plt.figure()\n",
    "\n",
    "ax1 = plt.subplot(121)\n",
    "ax1.plot(hist.history[\"loss\"],label = \"Training Loss\")\n",
    "ax1.plot(hist.history[\"val_loss\"],label = \"Validation Loss\")\n",
    "plt.xlabel(\"Nombre d'itérations\")\n",
    "plt.ylabel(\"Loss function\")\n",
    "plt.legend()\n",
    "\n",
    "ax2 = plt.subplot(122)\n",
    "ax2.plot(hist.history[\"categorical_accuracy\"],label = \"Training Accuracy\")\n",
    "ax2.plot(hist.history[\"val_categorical_accuracy\"],label = \"Validation Accuracy\")\n",
    "plt.xlabel(\"Nombre d'itérations\")\n",
    "plt.ylabel(\"Accuracy\")\n",
    "plt.legend()"
   ]
  },
  {
   "cell_type": "markdown",
   "metadata": {},
   "source": [
    " ### Accuracy sur la base de test"
   ]
  },
  {
   "cell_type": "code",
   "execution_count": 17,
   "metadata": {},
   "outputs": [
    {
     "name": "stdout",
     "output_type": "stream",
     "text": [
      "Accuracy on test set: 92.72 %\n"
     ]
    }
   ],
   "source": [
    "prediction_bar = model.predict(x_test)\n",
    "prediction = np.argmax(prediction_bar,axis = 1)\n",
    "\n",
    "print(\"Accuracy on test set: \" + str(np.round(np.sum(prediction == y_test)/x_test.shape[0]*100,3)) + \" %\")"
   ]
  },
  {
   "cell_type": "code",
   "execution_count": 112,
   "metadata": {},
   "outputs": [
    {
     "data": {
      "text/plain": [
       "(10000,)"
      ]
     },
     "execution_count": 112,
     "metadata": {},
     "output_type": "execute_result"
    }
   ],
   "source": [
    "y_test.shape"
   ]
  },
  {
   "cell_type": "markdown",
   "metadata": {},
   "source": [
    "### Essai sur la base de test"
   ]
  },
  {
   "cell_type": "code",
   "execution_count": 18,
   "metadata": {},
   "outputs": [
    {
     "name": "stderr",
     "output_type": "stream",
     "text": [
      "No handles with labels found to put in legend.\n",
      "No handles with labels found to put in legend.\n"
     ]
    },
    {
     "data": {
      "text/plain": [
       "<matplotlib.legend.Legend at 0x7fdcac3251d0>"
      ]
     },
     "execution_count": 18,
     "metadata": {},
     "output_type": "execute_result"
    },
    {
     "data": {
      "image/png": "[encoded data removed]",
      "text/plain": [
       "<Figure size 432x288 with 2 Axes>"
      ]
     },
     "metadata": {
      "needs_background": "light"
     },
     "output_type": "display_data"
    }
   ],
   "source": [
    "figure = plt.figure()\n",
    "\n",
    "figure.clear()\n",
    "\n",
    "r = np.random.randint(x_test.shape[0])\n",
    "\n",
    "ax1 = plt.subplot(121)\n",
    "ax1.imshow(x_test[r],cmap = \"hot\")\n",
    "plt.title(\"Prédiction du réseau : \" + str(prediction[r]) + \"\\n Vraie valeur : \" + str(y_test[r]))\n",
    "plt.legend()\n",
    "\n",
    "ax2 = plt.subplot(122)\n",
    "ax2.bar(np.arange(10),height = prediction_bar[r],tick_label = np.arange(10))\n",
    "plt.xlabel(\"Valeur\")\n",
    "plt.ylabel(\"Output du réseau\")\n",
    "plt.legend()"
   ]
  },
  {
   "cell_type": "markdown",
   "metadata": {},
   "source": [
    " ### Exemple d'erreur"
   ]
  },
  {
   "cell_type": "code",
   "execution_count": 19,
   "metadata": {},
   "outputs": [
    {
     "name": "stderr",
     "output_type": "stream",
     "text": [
      "No handles with labels found to put in legend.\n",
      "No handles with labels found to put in legend.\n"
     ]
    },
    {
     "data": {
      "text/plain": [
       "<matplotlib.legend.Legend at 0x7fdcd81b03d0>"
      ]
     },
     "execution_count": 19,
     "metadata": {},
     "output_type": "execute_result"
    },
    {
     "data": {
      "image/png": "[encoded data removed]",
      "text/plain": [
       "<Figure size 432x288 with 2 Axes>"
      ]
     },
     "metadata": {
      "needs_background": "light"
     },
     "output_type": "display_data"
    }
   ],
   "source": [
    "figure = plt.figure()\n",
    "\n",
    "figure.clear()\n",
    "\n",
    "erreurs = np.where(prediction != y_test)[0]\n",
    "\n",
    "r2 = np.random.randint(erreurs.shape[0])\n",
    "e = erreurs[r2]\n",
    "\n",
    "ax1 = plt.subplot(121)\n",
    "ax1.imshow(x_test[e],cmap = \"hot\")\n",
    "plt.title(\"Prédiction du réseau : \" + str(prediction[e]) + \"\\n Vraie valeur : \" + str(y_test[e]))\n",
    "plt.legend()\n",
    "\n",
    "ax2 = plt.subplot(122)\n",
    "ax2.bar(np.arange(10),height = prediction_bar[e],tick_label = np.arange(10))\n",
    "plt.xlabel(\"Valeur\")\n",
    "plt.ylabel(\"Output du réseau\")\n",
    "plt.legend()"
   ]
  },
  {
   "cell_type": "markdown",
   "metadata": {},
   "source": [
    "# TEST SUR LA RECONNAISANCE DIMAGE PERSO\n"
   ]
  },
  {
   "cell_type": "code",
   "execution_count": 113,
   "metadata": {},
   "outputs": [],
   "source": [
    "from PIL import Image, ImageFilter\n",
    "\n",
    "# https://stackoverflow.com/questions/35842274/convert-own-image-to-mnists-image\n",
    "# https://www.pluralsight.com/guides/importing-image-data-into-numpy-arrays\n",
    "\n",
    "def imageprepare(argv):\n",
    "    \"\"\"\n",
    "    This function returns the pixel values.\n",
    "    The imput is a png file location.\n",
    "    \"\"\"\n",
    "    im = Image.open(argv).convert('L')\n",
    "    width = float(im.size[0])\n",
    "    height = float(im.size[1])\n",
    "    newImage = Image.new('L', (28, 28), (255))  # creates white canvas of 28x28 pixels\n",
    "\n",
    "    if width > height:  # check which dimension is bigger\n",
    "        # Width is bigger. Width becomes 20 pixels.\n",
    "        nheight = int(round((20.0 / width * height), 0))  # resize height according to ratio width\n",
    "        if (nheight == 0):  # rare case but minimum is 1 pixel\n",
    "            nheight = 1\n",
    "            # resize and sharpen\n",
    "        img = im.resize((20, nheight), Image.ANTIALIAS).filter(ImageFilter.SHARPEN)\n",
    "        wtop = int(round(((28 - nheight) / 2), 0))  # calculate horizontal position\n",
    "        newImage.paste(img, (4, wtop))  # paste resized image on white canvas\n",
    "    else:\n",
    "        # Height is bigger. Heigth becomes 20 pixels.\n",
    "        nwidth = int(round((20.0 / height * width), 0))  # resize width according to ratio height\n",
    "        if (nwidth == 0):  # rare case but minimum is 1 pixel\n",
    "            nwidth = 1\n",
    "            # resize and sharpen\n",
    "        img = im.resize((nwidth, 20), Image.ANTIALIAS).filter(ImageFilter.SHARPEN)\n",
    "        wleft = int(round(((28 - nwidth) / 2), 0))  # caculate vertical pozition\n",
    "        newImage.paste(img, (wleft, 4))  # paste resized image on white canvas\n",
    "\n",
    "    # newImage.save(\"sample.png\n",
    "\n",
    "    tv = list(newImage.getdata())  # get pixel values\n",
    "\n",
    "    # normalize pixels to 0 and 1. 0 is pure white, 1 is pure black.\n",
    "    tva = [(255 - x) * 1.0 / 255.0 for x in tv]\n",
    "    print(tva)\n",
    "    return tva"
   ]
  },
  {
   "cell_type": "code",
   "execution_count": 120,
   "metadata": {},
   "outputs": [
    {
     "name": "stdout",
     "output_type": "stream",
     "text": [
      "[0.0, 0.0, 0.0, 0.0, 0.0, 0.0, 0.0, 0.0, 0.0, 0.0, 0.0, 0.0, 0.0, 0.0, 0.0, 0.0, 0.0, 0.0, 0.0, 0.0, 0.0, 0.0, 0.0, 0.0, 0.0, 0.0, 0.0, 0.0, 0.0, 0.0, 0.0, 0.0, 0.0, 0.0, 0.0, 0.0, 0.0, 0.0, 0.0, 0.0, 0.0, 0.0, 0.0, 0.0, 0.0, 0.0, 0.0, 0.0, 0.0, 0.0, 0.0, 0.0, 0.0, 0.0, 0.0, 0.0, 0.0, 0.0, 0.0, 0.0, 0.0, 0.0, 0.0, 0.0, 0.0, 0.0, 0.0, 0.0, 0.0, 0.0, 0.0, 0.0, 0.0, 0.0, 0.0, 0.0, 0.0, 0.0, 0.0, 0.0, 0.0, 0.0, 0.0, 0.0, 0.0, 0.0, 0.0, 0.0, 0.0, 0.0, 0.0, 0.0, 0.0, 0.0, 0.0, 0.0, 0.0, 0.0, 0.0, 0.0, 0.0, 0.0, 0.0, 0.0, 0.0, 0.0, 0.0, 0.0, 0.0, 0.0, 0.0, 0.0, 0.0, 0.0, 0.0, 0.0, 0.0, 0.0, 0.0, 0.0, 0.0, 0.0, 0.00392156862745098, 0.00392156862745098, 0.00392156862745098, 0.00392156862745098, 0.00392156862745098, 0.00392156862745098, 0.0, 0.0, 0.0, 0.0, 0.0, 0.0, 0.0, 0.0, 0.0, 0.0, 0.0, 0.0, 0.0, 0.0, 0.0, 0.0, 0.0, 0.0, 0.0, 0.0, 0.0, 0.0, 0.0, 0.0, 0.0, 0.0, 0.0, 0.0, 0.01568627450980392, 0.011764705882352941, 0.0, 0.0, 0.0, 0.0, 0.0, 0.0, 0.0, 0.0, 0.0, 0.0, 0.0, 0.0, 0.0, 0.0, 0.0, 0.0, 0.0, 0.0, 0.0, 0.0, 0.0, 0.0, 0.0, 0.0, 0.0, 0.0, 0.0, 0.0, 0.0, 0.0, 0.0, 0.0, 0.0, 0.0, 0.0, 0.0, 0.0, 0.0, 0.0, 0.0, 0.0, 0.0, 0.0, 0.0, 0.0, 0.0, 0.03137254901960784, 0.0, 0.6705882352941176, 1.0, 1.0, 1.0, 1.0, 1.0, 0.6039215686274509, 0.0, 0.0, 0.0, 0.0, 0.0, 0.0, 0.0, 0.0, 0.0, 0.0, 0.0, 0.0, 0.0, 0.0, 0.0, 0.0, 0.0, 0.0, 0.0, 0.011764705882352941, 0.0, 0.24705882352941178, 0.43529411764705883, 0.1568627450980392, 0.17647058823529413, 0.2549019607843137, 0.49411764705882355, 1.0, 1.0, 0.0, 0.0, 0.011764705882352941, 0.0, 0.0, 0.0, 0.0, 0.0, 0.0, 0.0, 0.0, 0.0, 0.0, 0.0, 0.0, 0.0, 0.0, 0.0, 0.0, 0.0, 0.0, 0.0, 0.0, 0.0, 0.0, 0.0, 0.0, 1.0, 0.27450980392156865, 0.0, 0.023529411764705882, 0.0, 0.0, 0.0, 0.0, 0.0, 0.0, 0.0, 0.0, 0.0, 0.0, 0.0, 0.0, 0.0, 0.0, 0.0, 0.0, 0.0, 0.00784313725490196, 0.011764705882352941, 0.0196078431372549, 0.01568627450980392, 0.01568627450980392, 0.0, 0.0, 0.9215686274509803, 0.9058823529411765, 0.0, 0.0, 0.0, 0.0, 0.0, 0.0, 0.0, 0.0, 0.0, 0.0, 0.0, 0.0, 0.0, 0.0, 0.0, 0.0, 0.0, 0.0, 0.0, 0.0, 0.0, 0.0, 0.00784313725490196, 0.023529411764705882, 0.023529411764705882, 0.0, 0.4980392156862745, 1.0, 0.0, 0.0, 0.0, 0.0, 0.0, 0.0, 0.0, 0.0, 0.0, 0.0, 0.0, 0.0, 0.0, 0.0, 0.0, 0.0, 0.0, 0.0, 0.0, 0.0, 0.0, 0.0, 0.0, 0.0, 0.0, 0.0, 1.0, 0.7019607843137254, 0.0, 0.00784313725490196, 0.0, 0.0, 0.0, 0.0, 0.0, 0.0, 0.0, 0.0, 0.0, 0.0, 0.0, 0.0, 0.0, 0.0, 0.0, 0.0, 0.0, 0.0, 0.01568627450980392, 0.0, 0.34509803921568627, 1.0, 0.8352941176470589, 1.0, 0.8431372549019608, 0.0, 0.0, 0.01568627450980392, 0.0, 0.0, 0.0, 0.0, 0.0, 0.0, 0.0, 0.0, 0.0, 0.0, 0.0, 0.0, 0.0, 0.0, 0.0, 0.0, 0.0, 0.0, 0.01568627450980392, 0.0, 0.5058823529411764, 1.0, 1.0, 1.0, 0.8705882352941177, 0.023529411764705882, 0.0, 0.0, 0.0, 0.0, 0.0, 0.0, 0.0, 0.0, 0.0, 0.0, 0.0, 0.0, 0.0, 0.0, 0.0, 0.0, 0.0, 0.0, 0.0, 0.0, 0.0, 0.0, 0.0, 0.0, 0.0, 0.12549019607843137, 0.8156862745098039, 1.0, 0.403921568627451, 0.0, 0.011764705882352941, 0.0, 0.0, 0.0, 0.0, 0.0, 0.0, 0.0, 0.0, 0.0, 0.0, 0.0, 0.0, 0.0, 0.0, 0.0, 0.0, 0.0, 0.0, 0.0, 0.00392156862745098, 0.0, 0.0, 0.0, 0.0, 0.788235294117647, 1.0, 0.0, 0.0, 0.00392156862745098, 0.0, 0.0, 0.0, 0.0, 0.0, 0.0, 0.0, 0.0, 0.0, 0.0, 0.0, 0.0, 0.0, 0.0, 0.0, 0.0, 0.0, 0.0, 0.0, 0.0, 0.00392156862745098, 0.054901960784313725, 0.0, 0.4, 1.0, 0.0, 0.0, 0.00784313725490196, 0.0, 0.0, 0.0, 0.0, 0.0, 0.0, 0.0, 0.0, 0.0, 0.0, 0.0, 0.0, 0.0, 0.0, 0.0, 0.00784313725490196, 0.0196078431372549, 0.0196078431372549, 0.027450980392156862, 0.023529411764705882, 0.03137254901960784, 0.0, 0.0, 0.6705882352941176, 1.0, 0.0, 0.0, 0.00784313725490196, 0.0, 0.0, 0.0, 0.0, 0.0, 0.0, 0.0, 0.0, 0.0, 0.0, 0.0, 0.0, 0.0, 0.0, 0.0, 0.0, 0.0, 0.0, 0.0, 0.0, 0.0, 0.0, 0.3254901960784314, 1.0, 0.4823529411764706, 0.0, 0.011764705882352941, 0.0, 0.0, 0.0, 0.0, 0.0, 0.0, 0.0, 0.0, 0.0, 0.0, 0.0, 0.0, 0.0, 0.0, 0.00392156862745098, 0.0, 0.058823529411764705, 0.3254901960784314, 0.29411764705882354, 0.4, 0.4980392156862745, 0.611764705882353, 0.9725490196078431, 1.0, 0.6392156862745098, 0.0, 0.0, 0.0, 0.0, 0.0, 0.0, 0.0, 0.0, 0.0, 0.0, 0.0, 0.0, 0.0, 0.0, 0.0, 0.0, 0.0, 0.03137254901960784, 0.0, 0.6470588235294118, 1.0, 1.0, 1.0, 1.0, 1.0, 0.8549019607843137, 0.12549019607843137, 0.0, 0.0, 0.0, 0.0, 0.0, 0.0, 0.0, 0.0, 0.0, 0.0, 0.0, 0.0, 0.0, 0.0, 0.0, 0.0, 0.0, 0.0, 0.0, 0.0, 0.0, 0.0, 0.0, 0.0, 0.0, 0.0, 0.0, 0.0, 0.0, 0.0, 0.0, 0.0, 0.0, 0.0, 0.0, 0.0, 0.0, 0.0, 0.0, 0.0, 0.0, 0.0, 0.0, 0.0, 0.0, 0.0, 0.0, 0.0, 0.0, 0.0, 0.0, 0.0, 0.0, 0.00392156862745098, 0.00784313725490196, 0.00784313725490196, 0.0, 0.0, 0.0, 0.0, 0.0, 0.0, 0.0, 0.0, 0.0, 0.0, 0.0, 0.0, 0.0, 0.0, 0.0, 0.0, 0.0, 0.0, 0.0, 0.0, 0.0, 0.0, 0.0, 0.0, 0.0, 0.0, 0.0, 0.0, 0.0, 0.0, 0.0, 0.0, 0.0, 0.0, 0.0, 0.0, 0.0, 0.0, 0.0, 0.0, 0.0, 0.0, 0.0, 0.0, 0.0, 0.0, 0.0, 0.0, 0.0, 0.0, 0.0, 0.0, 0.0, 0.0, 0.0, 0.0, 0.0, 0.0, 0.0, 0.0, 0.0, 0.0, 0.0, 0.0, 0.0, 0.0, 0.0, 0.0, 0.0, 0.0, 0.0, 0.0, 0.0, 0.0, 0.0, 0.0, 0.0, 0.0, 0.0, 0.0, 0.0, 0.0, 0.0, 0.0, 0.0, 0.0, 0.0, 0.0, 0.0, 0.0, 0.0, 0.0, 0.0, 0.0, 0.0, 0.0, 0.0, 0.0, 0.0, 0.0, 0.0, 0.0, 0.0, 0.0, 0.0, 0.0, 0.0, 0.0, 0.0, 0.0, 0.0, 0.0, 0.0, 0.0, 0.0, 0.0, 0.0, 0.0, 0.0, 0.0, 0.0, 0.0]\n",
      "784\n"
     ]
    }
   ],
   "source": [
    "# charger image perso \n",
    "x=imageprepare('datasets/mnist_test/test_3.png') #file path here\n",
    "print(len(x))# mnist IMAGES are 28x28=784 pixels"
   ]
  },
  {
   "cell_type": "code",
   "execution_count": 121,
   "metadata": {},
   "outputs": [
    {
     "data": {
      "text/plain": [
       "(1, 28, 28)"
      ]
     },
     "execution_count": 121,
     "metadata": {},
     "output_type": "execute_result"
    },
    {
     "data": {
      "image/png": "[encoded data removed]",
      "text/plain": [
       "<Figure size 432x288 with 1 Axes>"
      ]
     },
     "metadata": {
      "needs_background": "light"
     },
     "output_type": "display_data"
    }
   ],
   "source": [
    "# TRANSFORM X [784,1] into array(1,28,28)\n",
    "col = 28  # just grab the number of columns here\n",
    "xtransfinal = []\n",
    "xtransfinal.append([x[i:i+col] for i in range(0, len(x), col)])\n",
    "xtransfinal = np.array(xtransfinal)\n",
    "\n",
    "#VISUALIZATION\n",
    "plt.imshow(xtransfinal[0],cmap = \"hot\")\n",
    "xtransfinal.shape"
   ]
  },
  {
   "cell_type": "code",
   "execution_count": 122,
   "metadata": {},
   "outputs": [],
   "source": [
    "# FEEDING INPUT TO MODEL \n",
    "predictionbaralx = model.predict(xtransfinal)\n",
    "predictionalx = np.argmax(predictionbaralx,axis = 1)"
   ]
  },
  {
   "cell_type": "code",
   "execution_count": 123,
   "metadata": {},
   "outputs": [
    {
     "name": "stderr",
     "output_type": "stream",
     "text": [
      "No handles with labels found to put in legend.\n",
      "No handles with labels found to put in legend.\n"
     ]
    },
    {
     "data": {
      "text/plain": [
       "<matplotlib.legend.Legend at 0x7fdc7621a210>"
      ]
     },
     "execution_count": 123,
     "metadata": {},
     "output_type": "execute_result"
    },
    {
     "data": {
      "image/png": "[encoded data removed]",
      "text/plain": [
       "<Figure size 432x288 with 2 Axes>"
      ]
     },
     "metadata": {
      "needs_background": "light"
     },
     "output_type": "display_data"
    }
   ],
   "source": [
    "# RESULT VIZUALISATION\n",
    "figure = plt.figure()\n",
    "figure.clear()\n",
    "\n",
    "#r = np.random.randint(x_test.shape[0])\n",
    "r=0\n",
    "\n",
    "ax1 = plt.subplot(121)\n",
    "ax1.imshow(xtransfinal[r],cmap = \"hot\")\n",
    "plt.title(\"Prédiction du réseau : \" + str(predictionalx[r]))# + \"\\n Vraie valeur : \" + str(y_test[r]))\n",
    "plt.legend()\n",
    "\n",
    "ax2 = plt.subplot(122)\n",
    "ax2.bar(np.arange(10),height = predictionbaralx[r],tick_label = np.arange(10))\n",
    "plt.xlabel(\"Valeur\")\n",
    "plt.ylabel(\"Output du réseau\")\n",
    "plt.legend()"
   ]
  },
  {
   "cell_type": "code",
   "execution_count": 111,
   "metadata": {},
   "outputs": [],
   "source": [
    "#import numpy as np\n",
    "#xtrans = np.array(x)\n",
    "#shape = (28,28)\n",
    "#xtrans.reshape(shape)\n",
    "#xtrans"
   ]
  },
  {
   "cell_type": "code",
   "execution_count": 74,
   "metadata": {},
   "outputs": [],
   "source": [
    "#col = 28  # just grab the number of columns here\n",
    "#xtrans2 = [x[i:i+col] for i in range(0, len(x), col)]\n",
    "#xtrans2 = np.array(xtrans2)\n",
    "#xtrans2.shape"
   ]
  }
 ],
 "metadata": {
  "kernelspec": {
   "display_name": "Python 3",
   "language": "python",
   "name": "python3"
  },
  "language_info": {
   "codemirror_mode": {
    "name": "ipython",
    "version": 3
   },
   "file_extension": ".py",
   "mimetype": "text/x-python",
   "name": "python",
   "nbconvert_exporter": "python",
   "pygments_lexer": "ipython3",
   "version": "3.8.5"
  }
 },
 "nbformat": 4,
 "nbformat_minor": 4
}
