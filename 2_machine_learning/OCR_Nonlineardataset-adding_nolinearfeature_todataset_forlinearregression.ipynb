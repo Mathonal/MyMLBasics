{
 "cells": [
  {
   "cell_type": "code",
   "execution_count": 25,
   "metadata": {},
   "outputs": [],
   "source": [
    "import numpy as np\n",
    "from sklearn import datasets\n",
    "import matplotlib.pyplot as plt\n",
    "from sklearn.decomposition import PCA\n",
    "from sklearn import linear_model\n",
    "from mpl_toolkits.mplot3d import Axes3D\n",
    "# Entry : non linear dataset\n",
    "# GOAL OF EXERCICE :\n",
    "# Adding non linear feature (polynome) to dataset in order to do a linear regression of the augmented dataset\n",
    "# and having a good approximation of non linear dataset via linear regression tools"
   ]
  },
  {
   "cell_type": "code",
   "execution_count": 54,
   "metadata": {},
   "outputs": [
    {
     "name": "stdout",
     "output_type": "stream",
     "text": [
      "(500,)\n",
      "[0.         0.02004008 0.04008016 0.06012024 0.08016032 0.1002004\n",
      " 0.12024048 0.14028056 0.16032064 0.18036072]\n",
      "[1.80360721 5.09018036 5.67134269 8.91783567 9.23847695 0.3006012\n",
      " 6.33266533 9.7995992  3.18637275 3.06613226]\n"
     ]
    }
   ],
   "source": [
    "# GENERATING QUICK NON LINEAR DATASET -1\n",
    "def f(x): # x * cos(x) + noise from gaussian\n",
    "    return x * np.cos(x) + np.random.normal(size=500) *2\n",
    "\n",
    "#generate 500 equi-points from 0 to 10\n",
    "x = np.linspace(0,10,500)\n",
    "print (x.shape)\n",
    "print(x[:10])\n",
    "\n",
    "# generate a randomiser and shuffle X table\n",
    "rng = np.random.RandomState(0)\n",
    "rng.shuffle(x)\n",
    "print(x[:10])\n"
   ]
  },
  {
   "cell_type": "code",
   "execution_count": 55,
   "metadata": {},
   "outputs": [
    {
     "name": "stdout",
     "output_type": "stream",
     "text": [
      "[0.         0.02004008 0.04008016 0.06012024 0.08016032 0.1002004\n",
      " 0.12024048 0.14028056 0.16032064 0.18036072]\n",
      "[ 0.6062816   0.47945876  1.53880473  5.19760045 -1.91459646  2.89580599\n",
      " -2.54309412 -5.80018513  0.38037749 -1.44833416]\n"
     ]
    },
    {
     "data": {
      "image/png": "[encoded data removed]",
      "text/plain": [
       "<Figure size 432x288 with 1 Axes>"
      ]
     },
     "metadata": {},
     "output_type": "display_data"
    }
   ],
   "source": [
    "# GENERATING QUICK NON LINEAR DATASET -2\n",
    "#sorting function (write like this return X in state before randomisation)\n",
    "x = np.sort(x[:])\n",
    "print(x[:10])\n",
    "\n",
    "#generate Y from defined function\n",
    "y=f(x)\n",
    "print(y[:10])\n",
    "\n",
    "#create plot versions of X and y arrays\n",
    "plt.plot(x,y, 'o', color='black',markersize =2)\n",
    "plt.axis('off')\n",
    "plt.show()"
   ]
  },
  {
   "cell_type": "code",
   "execution_count": 56,
   "metadata": {},
   "outputs": [
    {
     "name": "stdout",
     "output_type": "stream",
     "text": [
      "(500, 5)\n",
      "[[0.00000000e+00 0.00000000e+00 0.00000000e+00 0.00000000e+00\n",
      "  0.00000000e+00]\n",
      " [2.00400802e-02 4.01604813e-04 8.04819264e-06 1.61286426e-07\n",
      "  3.23219290e-09]\n",
      " [4.00801603e-02 1.60641925e-03 6.43855411e-05 2.58058281e-06\n",
      "  1.03430173e-07]\n",
      " [6.01202405e-02 3.61444332e-03 2.17301201e-04 1.30642005e-05\n",
      "  7.85422875e-07]\n",
      " [8.01603206e-02 6.42567701e-03 5.15084329e-04 4.12893250e-05\n",
      "  3.30976553e-06]]\n"
     ]
    }
   ],
   "source": [
    "# TRY TO DO A NON LINEAR REGRESSION ON THE DATASET\n",
    "\n",
    "# dataset look polynomial, adding polynomial component to dataset\n",
    "# NEED TO TRANSPOSE to have the good shape [500 x 5]\n",
    "x_augmented = np.array([x, x**2, x**3, x**4, x**5]).T\n",
    "print(x_augmented.shape)\n",
    "\n",
    "print(x_augmented[:5])"
   ]
  },
  {
   "cell_type": "code",
   "execution_count": 57,
   "metadata": {},
   "outputs": [
    {
     "name": "stdout",
     "output_type": "stream",
     "text": [
      "prediction scrore : 0.8043926184692917\n",
      "regression coef : [ 11.22192136 -10.41734709   3.17969747  -0.37912394   0.01534988]\n"
     ]
    },
    {
     "data": {
      "image/png": "[encoded data removed]",
      "text/plain": [
       "<Figure size 432x288 with 1 Axes>"
      ]
     },
     "metadata": {},
     "output_type": "display_data"
    }
   ],
   "source": [
    "# Might be possible to apply linear regression to Augmented dataset\n",
    "regr = linear_model.LinearRegression()\n",
    "regr.fit(x_augmented,y)\n",
    "print('prediction scrore : {}'.format(regr.score(x_augmented,y)))\n",
    "print('regression coef : {}'.format(regr.coef_))\n",
    "#create plot versions of X and y arrays\n",
    "plt.plot(x,y, 'o', color='black',markersize =2)\n",
    "plt.plot(x,regr.predict(x_augmented), '-', color='red')\n",
    "plt.axis('off')\n",
    "plt.show()"
   ]
  },
  {
   "cell_type": "code",
   "execution_count": null,
   "metadata": {},
   "outputs": [],
   "source": [
    "# cas d'un dataset cercle : X_augmented = np.array([X[:,0], X[:,1], X[:,0]**2 + X[:,1]**2).T"
   ]
  }
 ],
 "metadata": {
  "kernelspec": {
   "display_name": "Python 3",
   "language": "python",
   "name": "python3"
  },
  "language_info": {
   "codemirror_mode": {
    "name": "ipython",
    "version": 3
   },
   "file_extension": ".py",
   "mimetype": "text/x-python",
   "name": "python",
   "nbconvert_exporter": "python",
   "pygments_lexer": "ipython3",
   "version": "3.8.5"
  }
 },
 "nbformat": 4,
 "nbformat_minor": 2
}
