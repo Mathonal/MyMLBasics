{
 "cells": [
  {
   "cell_type": "code",
   "execution_count": 1,
   "metadata": {},
   "outputs": [
    {
     "name": "stdout",
     "output_type": "stream",
     "text": [
      "   prenom                                   email date_naissance  \\\n",
      "0   Leila                       leila@example.com     23/01/1990   \n",
      "1  Samuel                  samuel_329@example.com     20/09/2001   \n",
      "2   Radia                choupipoune@supermail.eu  12 sept. 1984   \n",
      "3    Marc  marco23@example.com, mc23@supermail.eu     10/02/1978   \n",
      "4    Heri                 helloworld@supermail.eu     05/03/2008   \n",
      "5   Hanna                  hanna2019@supermail.eu     01/01/1970   \n",
      "6  samuël                  samuel_329@example.com            NaN   \n",
      "\n",
      "            pays taille  \n",
      "0         France  1.49m  \n",
      "1            NaN  1.67m  \n",
      "2  Côte d'ivoire  153cm  \n",
      "3         France  1.65m  \n",
      "4     Madagascar  1.34m  \n",
      "5             24  3.45m  \n",
      "6          Bénin  1.45m  \n"
     ]
    }
   ],
   "source": [
    "# import des librairies dont nous aurons besoin\n",
    "import pandas as pd\n",
    "import numpy as np\n",
    "import re\n",
    "\n",
    "# chargement et affichage des données\n",
    "data = pd.read_csv('personnes.csv')\n",
    "print(data)"
   ]
  },
  {
   "cell_type": "code",
   "execution_count": 2,
   "metadata": {},
   "outputs": [
    {
     "name": "stdout",
     "output_type": "stream",
     "text": [
      "Voici la valeur que je traite: A\n",
      "Voici la valeur que je traite: B\n",
      "Voici la valeur que je traite: C\n",
      "['a' 'b' 'c']\n",
      "  lettre  position\n",
      "0      a         1\n",
      "1      b         2\n",
      "2      c         3\n"
     ]
    }
   ],
   "source": [
    "# EXEMPLE RAPIDE METHODE POUR REMPLACER DES VALEURS DANS UN DATAFRAME\n",
    "#Fonction qui renvoit une minuscule\n",
    "def lower_case(value): \n",
    "    print('Voici la valeur que je traite:', value)\n",
    "    return value.lower()\n",
    "\n",
    "datatest = pd.DataFrame([['A',1],\n",
    "                     ['B',2],\n",
    "                     ['C',3]], columns = ['lettre','position'])\n",
    "\n",
    "# la methode .apply utilise une fonction sur l'ensemble d'une serie !\n",
    "nouvelle_colonne = datatest['lettre'].apply(lower_case)\n",
    "nouvelle_colonne = nouvelle_colonne.values\n",
    "print(nouvelle_colonne)\n",
    "datatest['lettre'] = nouvelle_colonne\n",
    "print(datatest)"
   ]
  },
  {
   "cell_type": "code",
   "execution_count": 3,
   "metadata": {},
   "outputs": [],
   "source": [
    "# TRAITEMENT DE LA COLONNE COUNTRY : erreur lexicale\n",
    "# verifier une valeur // dictionnaire\n",
    "VALID_COUNTRIES = ['France', 'Côte d\\'ivoire', 'Madagascar', 'Bénin', 'Allemagne'\n",
    "                  , 'USA']\n",
    "#fonction de Correction                  \n",
    "def check_country(country):\n",
    "    if country not in VALID_COUNTRIES:\n",
    "        print(' - \"{}\" n\\'est pas un pays valide, nous le supprimons.' \\\n",
    "            .format(country)) #permet de vérifier les corrections\n",
    "        return np.NaN\n",
    "    return country\n",
    "\n",
    "# TRAITEMENT DE LA COLONNE EMAIL : Erreur de supposition (2 valeurs au lieu d'une)\n",
    "# ne garder que la premiere valeur\n",
    "def first(string):\n",
    "    parts = string.split(',')\n",
    "    first_part = parts[0]\n",
    "    if len(parts) >= 2:\n",
    "        print(' - Il y a plusieurs parties dans \"{}\", ne gardons que {}.'\\\n",
    "            .format(parts,first_part))  \n",
    "    return first_part\n",
    "\n",
    "# TRAITEMENT DES TAILLES : ERREUR d'IRREGULARITE (Bonne valeurs, mauvaise unité)\n",
    "# + conversion en colonne chiffre\n",
    "def convert_height(height):\n",
    "    found = re.search('\\d\\.\\d{2}m', height) # EXPRESSION REGULIERE, regarder regles associées\n",
    "    if found is None:\n",
    "        print('{} n\\'est pas au bon format. Il sera ignoré.'.format(height))\n",
    "        return np.NaN\n",
    "    else:\n",
    "        value = height[:-1] # on enlève le dernier caractère, qui est 'm'\n",
    "        return float(value)\n",
    "\n",
    "# remplacement de valeur nulle par une valeur moyenne (attention, déforme les données )\n",
    "def fill_height(height, replacement):\n",
    "    if pd.isnull(height):\n",
    "        print('Imputation par la moyenne : {}'.format(replacement))\n",
    "        return replacement\n",
    "    return height"
   ]
  },
  {
   "cell_type": "code",
   "execution_count": 4,
   "metadata": {},
   "outputs": [
    {
     "name": "stdout",
     "output_type": "stream",
     "text": [
      " - Il y a plusieurs parties dans \"['marco23@example.com', ' mc23@supermail.eu']\", ne gardons que marco23@example.com.\n",
      " - \"nan\" n'est pas un pays valide, nous le supprimons.\n",
      " - \"24\" n'est pas un pays valide, nous le supprimons.\n",
      "153cm n'est pas au bon format. Il sera ignoré.\n",
      "Imputation par la moyenne : 1.52\n",
      "Imputation par la moyenne : 1.52\n",
      "   prenom                     email date_naissance           pays  taille\n",
      "0   Leila         leila@example.com     1990-01-23         France    1.49\n",
      "1  Samuel    samuel_329@example.com     2001-09-20            NaN    1.67\n",
      "2   Radia  choupipoune@supermail.eu            NaT  Côte d'ivoire    1.52\n",
      "3    Marc       marco23@example.com     1978-02-10         France    1.65\n",
      "4    Heri   helloworld@supermail.eu     2008-03-05     Madagascar    1.34\n",
      "5   Hanna    hanna2019@supermail.eu     1970-01-01            NaN    1.52\n",
      "6  samuël    samuel_329@example.com            NaT          Bénin    1.45\n"
     ]
    }
   ],
   "source": [
    "# APPLICATION DU NETTOYAGE SUR DONNEES par actualisation de colonnes \n",
    "# data[\"nom_colonne\"] = nouvelle_colonne\n",
    "data['email'] = data['email'].apply(first)\n",
    "data['pays'] = data['pays'].apply(check_country)\n",
    "\n",
    "data['taille'] = [convert_height(t) for t in data['taille']]\n",
    "data['taille'] = [t if t<3 else np.NaN for t in data['taille']] #suppression données aberrantes\n",
    "mean_height = data['taille'].mean()\n",
    "data['taille'] = [fill_height(t, mean_height) for t in data['taille']] #remplissage\n",
    "\n",
    "data['date_naissance'] = pd.to_datetime(data['date_naissance'], \n",
    "                                           format='%d/%m/%Y', errors='coerce') #détruit infos si pas bon format\n",
    "print(data)"
   ]
  },
  {
   "cell_type": "code",
   "execution_count": null,
   "metadata": {},
   "outputs": [],
   "source": [
    "# NOTAS SUPPLEMENTAIRES\n",
    "\n",
    "# REVISER LES COMPREHENSION DE LISTES !!\n",
    "\n",
    "#  data['taille'] = [convert_height(t) for t in data['taille']]\n",
    "\n",
    "# == \n",
    "\n",
    "# nouvelle_colonne = []\n",
    "# for t in data['taille']:\n",
    "#    nouvelle_colonne.append(convert_height(t))\n",
    "# data['taille'] = nouvelle_colonne\n",
    "\n",
    "# ==\n",
    "\n",
    "# data['taille'] = data['taille'].apply(convert_height)"
   ]
  }
 ],
 "metadata": {
  "kernelspec": {
   "display_name": "Python 3",
   "language": "python",
   "name": "python3"
  },
  "language_info": {
   "codemirror_mode": {
    "name": "ipython",
    "version": 3
   },
   "file_extension": ".py",
   "mimetype": "text/x-python",
   "name": "python",
   "nbconvert_exporter": "python",
   "pygments_lexer": "ipython3",
   "version": "3.8.5"
  }
 },
 "nbformat": 4,
 "nbformat_minor": 2
}
