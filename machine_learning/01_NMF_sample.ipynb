{
 "cells": [
  {
   "cell_type": "markdown",
   "metadata": {},
   "source": [
    "# use of Non-Negative Matrix Factorization (NMF) on income dataset\n",
    "#### finds a decomposition of samples X into two matrices W and H of non-negative elements, by optimizing the distance d between X and the matrix product WH."
   ]
  },
  {
   "cell_type": "code",
   "execution_count": 31,
   "metadata": {},
   "outputs": [],
   "source": [
    "import numpy as np\n",
    "from sklearn.decomposition import NMF\n",
    "import matplotlib.pyplot as plt\n",
    "import seaborn as sns"
   ]
  },
  {
   "cell_type": "code",
   "execution_count": 3,
   "metadata": {},
   "outputs": [],
   "source": [
    "X = np.array([[1,1,5,2,3], [0,6,2,1,1], [3,4,0,3,1], [4, 1,5,6,3]])\n",
    "model = NMF(n_components=2)"
   ]
  },
  {
   "cell_type": "code",
   "execution_count": 4,
   "metadata": {},
   "outputs": [
    {
     "name": "stdout",
     "output_type": "stream",
     "text": [
      "[[1 1 5 2 3]\n",
      " [0 6 2 1 1]\n",
      " [3 4 0 3 1]\n",
      " [4 1 5 6 3]]\n"
     ]
    }
   ],
   "source": [
    "print(X)"
   ]
  },
  {
   "cell_type": "code",
   "execution_count": 5,
   "metadata": {},
   "outputs": [
    {
     "name": "stdout",
     "output_type": "stream",
     "text": [
      "[[1.6282913  0.026322  ]\n",
      " [0.39902207 2.18571672]\n",
      " [0.75831737 1.53056852]\n",
      " [2.59747358 0.01899844]]\n"
     ]
    }
   ],
   "source": [
    "W = model.fit_transform(X)\n",
    "H = model.components_\n",
    "print(W)"
   ]
  },
  {
   "cell_type": "code",
   "execution_count": 6,
   "metadata": {},
   "outputs": [
    {
     "name": "stdout",
     "output_type": "stream",
     "text": [
      "[[1.35733834 0.41051184 2.16402106 2.04702128 1.33550911]\n",
      " [0.25412802 2.58522943 0.         0.3642873  0.14243281]]\n"
     ]
    }
   ],
   "source": [
    "print(H)"
   ]
  },
  {
   "cell_type": "code",
   "execution_count": 53,
   "metadata": {},
   "outputs": [
    {
     "name": "stdout",
     "output_type": "stream",
     "text": [
      "train matrix shape :  (100, 5)\n"
     ]
    },
    {
     "data": {
      "text/html": [
       "<div>\n",
       "<style scoped>\n",
       "    .dataframe tbody tr th:only-of-type {\n",
       "        vertical-align: middle;\n",
       "    }\n",
       "\n",
       "    .dataframe tbody tr th {\n",
       "        vertical-align: top;\n",
       "    }\n",
       "\n",
       "    .dataframe thead th {\n",
       "        text-align: right;\n",
       "    }\n",
       "</style>\n",
       "<table border=\"1\" class=\"dataframe\">\n",
       "  <thead>\n",
       "    <tr style=\"text-align: right;\">\n",
       "      <th></th>\n",
       "      <th>Age</th>\n",
       "      <th>Annual Income (k$)</th>\n",
       "      <th>Spending Score (1-100)</th>\n",
       "      <th>Genre_Female</th>\n",
       "      <th>Genre_Male</th>\n",
       "    </tr>\n",
       "  </thead>\n",
       "  <tbody>\n",
       "    <tr>\n",
       "      <th>0</th>\n",
       "      <td>30</td>\n",
       "      <td>34</td>\n",
       "      <td>73</td>\n",
       "      <td>1</td>\n",
       "      <td>0</td>\n",
       "    </tr>\n",
       "    <tr>\n",
       "      <th>1</th>\n",
       "      <td>36</td>\n",
       "      <td>103</td>\n",
       "      <td>85</td>\n",
       "      <td>1</td>\n",
       "      <td>0</td>\n",
       "    </tr>\n",
       "    <tr>\n",
       "      <th>2</th>\n",
       "      <td>54</td>\n",
       "      <td>101</td>\n",
       "      <td>24</td>\n",
       "      <td>1</td>\n",
       "      <td>0</td>\n",
       "    </tr>\n",
       "    <tr>\n",
       "      <th>3</th>\n",
       "      <td>28</td>\n",
       "      <td>101</td>\n",
       "      <td>68</td>\n",
       "      <td>0</td>\n",
       "      <td>1</td>\n",
       "    </tr>\n",
       "    <tr>\n",
       "      <th>4</th>\n",
       "      <td>24</td>\n",
       "      <td>39</td>\n",
       "      <td>65</td>\n",
       "      <td>1</td>\n",
       "      <td>0</td>\n",
       "    </tr>\n",
       "  </tbody>\n",
       "</table>\n",
       "</div>"
      ],
      "text/plain": [
       "   Age  Annual Income (k$)  Spending Score (1-100)  Genre_Female  Genre_Male\n",
       "0   30                  34                      73             1           0\n",
       "1   36                 103                      85             1           0\n",
       "2   54                 101                      24             1           0\n",
       "3   28                 101                      68             0           1\n",
       "4   24                  39                      65             1           0"
      ]
     },
     "execution_count": 53,
     "metadata": {},
     "output_type": "execute_result"
    }
   ],
   "source": [
    "#import data\n",
    "import pandas as pd\n",
    "train_data = pd.read_csv(r\"datasets/income/train-data.csv\")\n",
    "test_data = pd.read_csv(r\"datasets/income/test-data.csv\")\n",
    "print('train matrix shape : ',train_data.shape)\n",
    "train_data.head()"
   ]
  },
  {
   "cell_type": "code",
   "execution_count": 56,
   "metadata": {},
   "outputs": [
    {
     "data": {
      "text/html": [
       "<div>\n",
       "<style scoped>\n",
       "    .dataframe tbody tr th:only-of-type {\n",
       "        vertical-align: middle;\n",
       "    }\n",
       "\n",
       "    .dataframe tbody tr th {\n",
       "        vertical-align: top;\n",
       "    }\n",
       "\n",
       "    .dataframe thead th {\n",
       "        text-align: right;\n",
       "    }\n",
       "</style>\n",
       "<table border=\"1\" class=\"dataframe\">\n",
       "  <thead>\n",
       "    <tr style=\"text-align: right;\">\n",
       "      <th></th>\n",
       "      <th>Age</th>\n",
       "      <th>Annual Income (k$)</th>\n",
       "      <th>Spending Score (1-100)</th>\n",
       "      <th>Genre</th>\n",
       "    </tr>\n",
       "  </thead>\n",
       "  <tbody>\n",
       "    <tr>\n",
       "      <th>0</th>\n",
       "      <td>30</td>\n",
       "      <td>34</td>\n",
       "      <td>73</td>\n",
       "      <td>-1</td>\n",
       "    </tr>\n",
       "    <tr>\n",
       "      <th>1</th>\n",
       "      <td>36</td>\n",
       "      <td>103</td>\n",
       "      <td>85</td>\n",
       "      <td>-1</td>\n",
       "    </tr>\n",
       "    <tr>\n",
       "      <th>2</th>\n",
       "      <td>54</td>\n",
       "      <td>101</td>\n",
       "      <td>24</td>\n",
       "      <td>-1</td>\n",
       "    </tr>\n",
       "    <tr>\n",
       "      <th>3</th>\n",
       "      <td>28</td>\n",
       "      <td>101</td>\n",
       "      <td>68</td>\n",
       "      <td>1</td>\n",
       "    </tr>\n",
       "    <tr>\n",
       "      <th>4</th>\n",
       "      <td>24</td>\n",
       "      <td>39</td>\n",
       "      <td>65</td>\n",
       "      <td>-1</td>\n",
       "    </tr>\n",
       "    <tr>\n",
       "      <th>...</th>\n",
       "      <td>...</td>\n",
       "      <td>...</td>\n",
       "      <td>...</td>\n",
       "      <td>...</td>\n",
       "    </tr>\n",
       "    <tr>\n",
       "      <th>95</th>\n",
       "      <td>19</td>\n",
       "      <td>64</td>\n",
       "      <td>46</td>\n",
       "      <td>1</td>\n",
       "    </tr>\n",
       "    <tr>\n",
       "      <th>96</th>\n",
       "      <td>63</td>\n",
       "      <td>48</td>\n",
       "      <td>51</td>\n",
       "      <td>1</td>\n",
       "    </tr>\n",
       "    <tr>\n",
       "      <th>97</th>\n",
       "      <td>22</td>\n",
       "      <td>20</td>\n",
       "      <td>79</td>\n",
       "      <td>1</td>\n",
       "    </tr>\n",
       "    <tr>\n",
       "      <th>98</th>\n",
       "      <td>31</td>\n",
       "      <td>70</td>\n",
       "      <td>77</td>\n",
       "      <td>-1</td>\n",
       "    </tr>\n",
       "    <tr>\n",
       "      <th>99</th>\n",
       "      <td>30</td>\n",
       "      <td>19</td>\n",
       "      <td>72</td>\n",
       "      <td>-1</td>\n",
       "    </tr>\n",
       "  </tbody>\n",
       "</table>\n",
       "<p>100 rows × 4 columns</p>\n",
       "</div>"
      ],
      "text/plain": [
       "    Age  Annual Income (k$)  Spending Score (1-100)  Genre\n",
       "0    30                  34                      73     -1\n",
       "1    36                 103                      85     -1\n",
       "2    54                 101                      24     -1\n",
       "3    28                 101                      68      1\n",
       "4    24                  39                      65     -1\n",
       "..  ...                 ...                     ...    ...\n",
       "95   19                  64                      46      1\n",
       "96   63                  48                      51      1\n",
       "97   22                  20                      79      1\n",
       "98   31                  70                      77     -1\n",
       "99   30                  19                      72     -1\n",
       "\n",
       "[100 rows x 4 columns]"
      ]
     },
     "execution_count": 56,
     "metadata": {},
     "output_type": "execute_result"
    }
   ],
   "source": [
    "#Transform data to regroup GENRE in one variable (male =1; female =-1)\n",
    "newtrain_data = train_data.copy()\n",
    "newtrain_data[\"Genre\"] = train_data[\"Genre_Male\"] - train_data[\"Genre_Female\"]\n",
    "newtrain_data = newtrain_data.drop(columns=[\"Genre_Male\",\"Genre_Female\"],axis=1)\n",
    "\n",
    "newtest_data = test_data.copy()\n",
    "newtest_data[\"Genre\"] = test_data[\"Genre_Male\"] - test_data[\"Genre_Female\"]\n",
    "newtest_data = newtest_data.drop(columns=[\"Genre_Male\",\"Genre_Female\"],axis=1)\n",
    "\n",
    "newtrain_data"
   ]
  },
  {
   "cell_type": "code",
   "execution_count": 57,
   "metadata": {},
   "outputs": [
    {
     "data": {
      "text/plain": [
       "<seaborn.axisgrid.PairGrid at 0x7f771a6da4c0>"
      ]
     },
     "execution_count": 57,
     "metadata": {},
     "output_type": "execute_result"
    },
    {
     "data": {
      "image/png": "[encoded data removed]",
      "text/plain": [
       "<Figure size 586x540 with 12 Axes>"
      ]
     },
     "metadata": {
      "needs_background": "light"
     },
     "output_type": "display_data"
    }
   ],
   "source": [
    "sns.pairplot(data=newtrain_data, hue=\"Genre\")"
   ]
  },
  {
   "cell_type": "code",
   "execution_count": 58,
   "metadata": {},
   "outputs": [],
   "source": [
    "model1 = NMF(n_components=4)"
   ]
  },
  {
   "cell_type": "code",
   "execution_count": 60,
   "metadata": {},
   "outputs": [
    {
     "name": "stdout",
     "output_type": "stream",
     "text": [
      "(100, 4)\n",
      "[[1.37660820e+00 3.03889621e+00 1.13039820e+00 3.39514707e-01]\n",
      " [4.49671344e+00 2.35981154e+00 2.34332050e-01 0.00000000e+00]\n",
      " [2.90848545e+00 0.00000000e+00 2.14419156e+00 4.74008634e+00]\n",
      " [3.89453649e+00 1.76690853e+00 1.74935249e-02 1.62711532e+00]\n",
      " [1.68520916e+00 2.51875653e+00 6.55263530e-01 5.43841021e-02]\n",
      " [3.14338170e+00 3.96302244e-01 2.21283029e-01 0.00000000e+00]\n",
      " [2.61947949e+00 1.39861163e+00 5.11449886e-01 0.00000000e+00]\n",
      " [4.01511474e+00 2.80259676e+00 3.49502451e-01 1.42925145e-01]\n",
      " [4.47920674e+00 1.57801204e+00 3.43047929e-02 5.46401814e-02]\n",
      " [1.64569128e+00 1.10496038e+00 2.24483587e+00 1.80881038e-01]\n",
      " [3.05152409e+00 2.45542526e+00 9.59127748e-01 1.52878944e-01]\n",
      " [3.05169654e+00 2.45535316e+00 1.02143571e+00 1.52327598e-01]\n",
      " [2.35752577e+00 1.11079474e+00 2.00901768e+00 0.00000000e+00]\n",
      " [3.44896058e+00 3.21094355e-01 2.03094373e+00 0.00000000e+00]\n",
      " [3.62530579e+00 1.92589110e+00 6.05035648e-02 6.84889728e-01]\n",
      " [3.31796559e+00 2.93852619e+00 4.47509785e-01 0.00000000e+00]\n",
      " [3.12851165e+00 5.71380050e-02 9.29364684e-01 2.11479393e+00]\n",
      " [8.73189301e-01 3.84005676e-01 3.23160861e+00 0.00000000e+00]\n",
      " [2.79410733e+00 9.33000458e-01 1.14954596e+00 0.00000000e+00]\n",
      " [3.63551751e-01 4.73348837e+00 1.77389861e+00 1.47055837e+00]\n",
      " [6.07098696e-01 0.00000000e+00 2.61345656e+00 1.52941966e+00]\n",
      " [2.75042396e+00 1.34520715e+00 2.89211473e+00 0.00000000e+00]\n",
      " [2.30470366e+00 1.32963587e+00 1.95658033e+00 1.67706653e-01]\n",
      " [3.30746440e+00 4.28139587e-01 1.58506362e+00 1.72124868e-01]\n",
      " [6.50237646e-01 3.10690332e-02 1.90891979e+00 4.28007103e-01]\n",
      " [1.30574379e+00 1.05843959e-02 3.12577373e+00 5.66718453e+00]\n",
      " [3.35958260e+00 3.06958925e+00 5.47393673e-01 1.45027132e-01]\n",
      " [3.38691040e+00 3.00906771e+00 1.02862702e-01 5.71791892e-02]\n",
      " [2.61642354e+00 1.91605118e-02 1.02077961e+00 2.49122857e+00]\n",
      " [2.65650871e+00 1.67943138e+00 1.85266659e+00 1.59585105e-01]\n",
      " [1.37050480e+00 1.32156984e-01 2.47516550e+00 2.21289068e-01]\n",
      " [2.70119256e+00 1.02018835e+00 3.05467521e+00 1.56331161e-01]\n",
      " [1.83362958e+00 1.81725524e+00 2.19040280e+00 0.00000000e+00]\n",
      " [5.83349357e-01 8.98182084e-03 9.92776194e-01 8.22489336e+00]\n",
      " [1.42346817e+00 1.19998902e-02 9.55037376e-01 6.12291831e+00]\n",
      " [3.20544878e+00 3.47752913e+00 2.15274324e-01 4.93934341e-01]\n",
      " [6.58145548e-01 1.70434220e+00 1.56596765e+00 2.64871838e-01]\n",
      " [3.14334906e+00 2.22071363e+00 4.97055458e-01 0.00000000e+00]\n",
      " [1.70267586e+00 6.87190617e-01 2.30628477e+00 0.00000000e+00]\n",
      " [2.61946761e+00 1.25065432e+00 1.76695580e+00 0.00000000e+00]\n",
      " [1.79446335e+00 8.75465436e-03 2.85773065e+00 6.46770257e+00]\n",
      " [1.26610618e+00 1.01294221e+00 1.91025058e+00 0.00000000e+00]\n",
      " [3.18699482e+00 3.04118300e+00 3.09720543e-01 0.00000000e+00]\n",
      " [3.65074887e+00 2.21138070e+00 9.70726028e-02 4.66581581e-01]\n",
      " [3.63328436e+00 9.80938060e-02 7.78281349e-01 1.89936060e+00]\n",
      " [2.13924030e+00 1.19970362e+00 1.97093326e+00 0.00000000e+00]\n",
      " [2.92506947e+00 9.28945336e-01 1.90577213e+00 0.00000000e+00]\n",
      " [9.66409544e-01 7.85153562e-04 1.63831453e+00 1.25305021e+01]\n",
      " [4.50355350e+00 1.81467669e+00 7.35738939e-03 3.15075052e+00]\n",
      " [3.13750783e+00 2.32179953e+00 5.56053483e-01 1.57143665e-01]\n",
      " [2.30663624e+00 1.37813664e+00 2.63929184e+00 1.61520662e-01]\n",
      " [1.79943224e+00 6.72754209e-03 2.10557960e+00 7.83098448e+00]\n",
      " [2.61948208e+00 1.00413445e+00 8.44623864e-01 0.00000000e+00]\n",
      " [3.36009639e+00 2.97075400e+00 8.64394511e-01 1.43388407e-01]\n",
      " [2.00948182e+00 1.98637343e-02 1.83392009e+00 4.40977335e+00]\n",
      " [3.75366330e+00 3.00769774e+00 5.10361591e-01 1.41334314e-01]\n",
      " [2.61947794e+00 9.05504589e-01 1.34895561e+00 0.00000000e+00]\n",
      " [8.80394506e-01 1.07148709e+00 2.81656486e+00 3.91802683e-01]\n",
      " [9.67558204e-01 2.61387701e+00 1.63587803e+00 8.05786711e-01]\n",
      " [1.48440238e+00 2.33711954e-01 1.98559914e+00 0.00000000e+00]\n",
      " [1.85529209e+00 1.51263599e+00 3.44485402e+00 2.08096546e-01]\n",
      " [1.17632720e+00 3.12048363e+00 6.48435841e-01 4.20585883e-01]\n",
      " [1.97236694e+00 2.10605300e+00 1.82378515e-01 3.90111653e-01]\n",
      " [6.08768535e-01 0.00000000e+00 3.29044771e+00 8.41855014e+00]\n",
      " [2.53215149e+00 1.23690326e+00 1.99141269e+00 0.00000000e+00]\n",
      " [1.09251211e-01 4.77565840e-03 2.06224114e+00 1.04116785e+01]\n",
      " [4.38096504e-01 1.88619448e-02 3.55483726e+00 2.75415196e+00]\n",
      " [2.48848137e+00 1.84638062e+00 2.28868572e+00 0.00000000e+00]\n",
      " [2.56763173e+00 1.37047337e+00 1.84420627e+00 1.64583452e-01]\n",
      " [3.22846537e+00 3.27092051e+00 4.66713728e-01 1.45467544e-01]\n",
      " [3.04437810e+00 4.85992537e-01 1.38029705e+00 1.75763785e-01]\n",
      " [3.40528452e+00 2.36055913e+00 8.16377911e-01 0.00000000e+00]\n",
      " [5.82281851e-01 3.55964976e+00 1.06016318e+00 9.17873702e-01]\n",
      " [2.30368748e+00 1.42868131e+00 1.45264974e+00 1.70952119e-01]\n",
      " [4.23477126e+00 2.51581337e+00 8.61673633e-02 0.00000000e+00]\n",
      " [3.96735065e+00 2.72329024e+00 0.00000000e+00 9.81690102e-01]\n",
      " [1.00145817e+00 4.12864911e+00 4.78794839e-01 1.38800811e+00]\n",
      " [2.05190370e+00 1.72832132e+00 3.22650381e+00 0.00000000e+00]\n",
      " [3.01238052e+00 1.63303029e+00 1.14504280e+00 0.00000000e+00]\n",
      " [2.69925683e+00 1.16892781e+00 2.17418958e+00 1.62512301e-01]\n",
      " [2.53215211e+00 1.92724967e+00 9.56131965e-01 0.00000000e+00]\n",
      " [1.87729162e+00 1.45431184e+00 2.25407738e+00 0.00000000e+00]\n",
      " [3.23066021e+00 2.23445375e+00 7.09230820e-01 0.00000000e+00]\n",
      " [2.70680399e+00 9.19277561e-01 2.51234194e-01 0.00000000e+00]\n",
      " [8.89595518e-01 1.36352955e+00 1.73710668e+00 8.54332087e-02]\n",
      " [2.65132039e+00 1.38561586e+00 0.00000000e+00 5.88296573e-01]\n",
      " [2.89844587e+00 1.01595731e-01 1.89589784e+00 2.56716296e+00]\n",
      " [1.65900177e+00 1.05010742e+00 3.30300283e+00 0.00000000e+00]\n",
      " [3.94950895e-01 1.76233955e+00 9.23756284e-01 8.22048902e-01]\n",
      " [2.18287772e+00 1.87222351e+00 2.72722407e+00 0.00000000e+00]\n",
      " [2.82602656e-01 3.28963667e-02 3.86999475e+00 1.72846199e+00]\n",
      " [4.97003234e+00 1.87113456e+00 0.00000000e+00 8.48421374e-01]\n",
      " [3.40528866e+00 2.45918899e+00 3.12046167e-01 0.00000000e+00]\n",
      " [1.09730809e-01 4.57474524e-03 2.24917986e+00 1.04101437e+01]\n",
      " [2.96297393e+00 3.28042214e+00 1.01406392e+00 1.56631482e-01]\n",
      " [2.56902475e+00 1.22202487e+00 4.20722822e-02 7.11961626e-01]\n",
      " [2.03821499e+00 1.68468699e+00 2.98469452e+00 1.81905911e-01]\n",
      " [3.92958733e-01 3.73546560e+00 1.00434173e+00 1.51742051e+00]\n",
      " [3.05602971e+00 2.55212795e+00 5.15752174e-01 0.00000000e+00]\n",
      " [5.57917621e-01 3.32302129e+00 1.45747593e+00 8.56939844e-01]]\n"
     ]
    },
    {
     "name": "stderr",
     "output_type": "stream",
     "text": [
      "/opt/conda/lib/python3.8/site-packages/sklearn/decomposition/_nmf.py:1076: ConvergenceWarning: Maximum number of iterations 200 reached. Increase it to improve convergence.\n",
      "  warnings.warn(\"Maximum number of iterations %d reached. Increase it to\"\n"
     ]
    }
   ],
   "source": [
    "W = model1.fit_transform(train_data)\n",
    "H = model1.components_\n",
    "\n",
    "print(W.shape)\n",
    "print(W)"
   ]
  },
  {
   "cell_type": "code",
   "execution_count": 61,
   "metadata": {},
   "outputs": [
    {
     "name": "stdout",
     "output_type": "stream",
     "text": [
      "[[6.71641029e+00 2.29049565e+01 8.25962669e+00 1.18377186e-01\n",
      "  4.69836325e-02]\n",
      " [8.64738515e-01 2.20046826e-04 2.02801615e+01 5.86239466e-02\n",
      "  9.36018717e-02]\n",
      " [1.60310640e+01 0.00000000e+00 0.00000000e+00 1.12885453e-01\n",
      "  6.75268705e-02]\n",
      " [1.94179336e-02 7.25137540e+00 0.00000000e+00 0.00000000e+00\n",
      "  8.36539982e-02]]\n"
     ]
    }
   ],
   "source": [
    "print(H)"
   ]
  }
 ],
 "metadata": {
  "kernelspec": {
   "display_name": "Python 3",
   "language": "python",
   "name": "python3"
  },
  "language_info": {
   "codemirror_mode": {
    "name": "ipython",
    "version": 3
   },
   "file_extension": ".py",
   "mimetype": "text/x-python",
   "name": "python",
   "nbconvert_exporter": "python",
   "pygments_lexer": "ipython3",
   "version": "3.8.5"
  }
 },
 "nbformat": 4,
 "nbformat_minor": 4
}
