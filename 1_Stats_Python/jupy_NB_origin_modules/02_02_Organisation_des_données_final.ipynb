{
 "cells": [
  {
   "cell_type": "code",
   "execution_count": 1,
   "metadata": {},
   "outputs": [],
   "source": [
    "import pandas as pd"
   ]
  },
  {
   "cell_type": "code",
   "execution_count": 5,
   "metadata": {},
   "outputs": [],
   "source": [
    "maDataFrame = pd.read_csv('../../Data/ozone.csv')"
   ]
  },
  {
   "cell_type": "code",
   "execution_count": 6,
   "metadata": {},
   "outputs": [
    {
     "data": {
      "text/html": [
       "<div>\n",
       "<style scoped>\n",
       "    .dataframe tbody tr th:only-of-type {\n",
       "        vertical-align: middle;\n",
       "    }\n",
       "\n",
       "    .dataframe tbody tr th {\n",
       "        vertical-align: top;\n",
       "    }\n",
       "\n",
       "    .dataframe thead th {\n",
       "        text-align: right;\n",
       "    }\n",
       "</style>\n",
       "<table border=\"1\" class=\"dataframe\">\n",
       "  <thead>\n",
       "    <tr style=\"text-align: right;\">\n",
       "      <th></th>\n",
       "      <th>JOUR</th>\n",
       "      <th>O3obs</th>\n",
       "      <th>MOCAGE</th>\n",
       "      <th>TEMPE</th>\n",
       "      <th>RMH2O</th>\n",
       "      <th>NO2</th>\n",
       "      <th>NO</th>\n",
       "      <th>STATION</th>\n",
       "      <th>VentMOD</th>\n",
       "      <th>VentANG</th>\n",
       "    </tr>\n",
       "  </thead>\n",
       "  <tbody>\n",
       "    <tr>\n",
       "      <th>0</th>\n",
       "      <td>1</td>\n",
       "      <td>91</td>\n",
       "      <td>93.2</td>\n",
       "      <td>21.5</td>\n",
       "      <td>0.00847</td>\n",
       "      <td>1.602</td>\n",
       "      <td>0.424</td>\n",
       "      <td>Aix</td>\n",
       "      <td>9.5000</td>\n",
       "      <td>-0.64350</td>\n",
       "    </tr>\n",
       "    <tr>\n",
       "      <th>1</th>\n",
       "      <td>1</td>\n",
       "      <td>100</td>\n",
       "      <td>104.6</td>\n",
       "      <td>20.2</td>\n",
       "      <td>0.00881</td>\n",
       "      <td>2.121</td>\n",
       "      <td>0.531</td>\n",
       "      <td>Aix</td>\n",
       "      <td>8.0100</td>\n",
       "      <td>-0.04996</td>\n",
       "    </tr>\n",
       "    <tr>\n",
       "      <th>2</th>\n",
       "      <td>0</td>\n",
       "      <td>82</td>\n",
       "      <td>103.6</td>\n",
       "      <td>17.4</td>\n",
       "      <td>0.00951</td>\n",
       "      <td>1.657</td>\n",
       "      <td>0.467</td>\n",
       "      <td>Aix</td>\n",
       "      <td>9.3771</td>\n",
       "      <td>-0.12832</td>\n",
       "    </tr>\n",
       "    <tr>\n",
       "      <th>3</th>\n",
       "      <td>0</td>\n",
       "      <td>94</td>\n",
       "      <td>94.8</td>\n",
       "      <td>18.8</td>\n",
       "      <td>0.00855</td>\n",
       "      <td>2.350</td>\n",
       "      <td>0.701</td>\n",
       "      <td>Aix</td>\n",
       "      <td>9.4578</td>\n",
       "      <td>-0.34516</td>\n",
       "    </tr>\n",
       "    <tr>\n",
       "      <th>4</th>\n",
       "      <td>0</td>\n",
       "      <td>107</td>\n",
       "      <td>99.0</td>\n",
       "      <td>23.7</td>\n",
       "      <td>0.00731</td>\n",
       "      <td>1.653</td>\n",
       "      <td>0.452</td>\n",
       "      <td>Aix</td>\n",
       "      <td>7.8791</td>\n",
       "      <td>-0.41822</td>\n",
       "    </tr>\n",
       "    <tr>\n",
       "      <th>...</th>\n",
       "      <td>...</td>\n",
       "      <td>...</td>\n",
       "      <td>...</td>\n",
       "      <td>...</td>\n",
       "      <td>...</td>\n",
       "      <td>...</td>\n",
       "      <td>...</td>\n",
       "      <td>...</td>\n",
       "      <td>...</td>\n",
       "      <td>...</td>\n",
       "    </tr>\n",
       "    <tr>\n",
       "      <th>1036</th>\n",
       "      <td>0</td>\n",
       "      <td>116</td>\n",
       "      <td>233.6</td>\n",
       "      <td>22.1</td>\n",
       "      <td>0.01048</td>\n",
       "      <td>4.843</td>\n",
       "      <td>0.431</td>\n",
       "      <td>Pla</td>\n",
       "      <td>4.8052</td>\n",
       "      <td>-0.20964</td>\n",
       "    </tr>\n",
       "    <tr>\n",
       "      <th>1037</th>\n",
       "      <td>0</td>\n",
       "      <td>60</td>\n",
       "      <td>162.5</td>\n",
       "      <td>15.8</td>\n",
       "      <td>0.00789</td>\n",
       "      <td>3.166</td>\n",
       "      <td>0.411</td>\n",
       "      <td>Pla</td>\n",
       "      <td>2.7203</td>\n",
       "      <td>-0.62880</td>\n",
       "    </tr>\n",
       "    <tr>\n",
       "      <th>1038</th>\n",
       "      <td>0</td>\n",
       "      <td>74</td>\n",
       "      <td>198.4</td>\n",
       "      <td>16.2</td>\n",
       "      <td>0.00811</td>\n",
       "      <td>8.349</td>\n",
       "      <td>0.942</td>\n",
       "      <td>Pla</td>\n",
       "      <td>4.0311</td>\n",
       "      <td>0.12435</td>\n",
       "    </tr>\n",
       "    <tr>\n",
       "      <th>1039</th>\n",
       "      <td>0</td>\n",
       "      <td>121</td>\n",
       "      <td>191.7</td>\n",
       "      <td>16.4</td>\n",
       "      <td>0.00722</td>\n",
       "      <td>2.101</td>\n",
       "      <td>0.199</td>\n",
       "      <td>Pla</td>\n",
       "      <td>3.8000</td>\n",
       "      <td>0.00000</td>\n",
       "    </tr>\n",
       "    <tr>\n",
       "      <th>1040</th>\n",
       "      <td>1</td>\n",
       "      <td>93</td>\n",
       "      <td>221.2</td>\n",
       "      <td>16.7</td>\n",
       "      <td>0.00919</td>\n",
       "      <td>2.290</td>\n",
       "      <td>0.202</td>\n",
       "      <td>Pla</td>\n",
       "      <td>2.3022</td>\n",
       "      <td>0.04345</td>\n",
       "    </tr>\n",
       "  </tbody>\n",
       "</table>\n",
       "<p>1041 rows × 10 columns</p>\n",
       "</div>"
      ],
      "text/plain": [
       "      JOUR  O3obs  MOCAGE  TEMPE    RMH2O    NO2     NO STATION  VentMOD  \\\n",
       "0        1     91    93.2   21.5  0.00847  1.602  0.424     Aix   9.5000   \n",
       "1        1    100   104.6   20.2  0.00881  2.121  0.531     Aix   8.0100   \n",
       "2        0     82   103.6   17.4  0.00951  1.657  0.467     Aix   9.3771   \n",
       "3        0     94    94.8   18.8  0.00855  2.350  0.701     Aix   9.4578   \n",
       "4        0    107    99.0   23.7  0.00731  1.653  0.452     Aix   7.8791   \n",
       "...    ...    ...     ...    ...      ...    ...    ...     ...      ...   \n",
       "1036     0    116   233.6   22.1  0.01048  4.843  0.431     Pla   4.8052   \n",
       "1037     0     60   162.5   15.8  0.00789  3.166  0.411     Pla   2.7203   \n",
       "1038     0     74   198.4   16.2  0.00811  8.349  0.942     Pla   4.0311   \n",
       "1039     0    121   191.7   16.4  0.00722  2.101  0.199     Pla   3.8000   \n",
       "1040     1     93   221.2   16.7  0.00919  2.290  0.202     Pla   2.3022   \n",
       "\n",
       "      VentANG  \n",
       "0    -0.64350  \n",
       "1    -0.04996  \n",
       "2    -0.12832  \n",
       "3    -0.34516  \n",
       "4    -0.41822  \n",
       "...       ...  \n",
       "1036 -0.20964  \n",
       "1037 -0.62880  \n",
       "1038  0.12435  \n",
       "1039  0.00000  \n",
       "1040  0.04345  \n",
       "\n",
       "[1041 rows x 10 columns]"
      ]
     },
     "execution_count": 6,
     "metadata": {},
     "output_type": "execute_result"
    }
   ],
   "source": [
    "maDataFrame"
   ]
  },
  {
   "cell_type": "code",
   "execution_count": 7,
   "metadata": {},
   "outputs": [
    {
     "data": {
      "text/plain": [
       "Index(['JOUR', 'O3obs', 'MOCAGE', 'TEMPE', 'RMH2O', 'NO2', 'NO', 'STATION',\n",
       "       'VentMOD', 'VentANG'],\n",
       "      dtype='object')"
      ]
     },
     "execution_count": 7,
     "metadata": {},
     "output_type": "execute_result"
    }
   ],
   "source": [
    "maDataFrame.columns"
   ]
  },
  {
   "cell_type": "code",
   "execution_count": 8,
   "metadata": {
    "scrolled": true
   },
   "outputs": [
    {
     "name": "stdout",
     "output_type": "stream",
     "text": [
      "<class 'pandas.core.frame.DataFrame'>\n",
      "RangeIndex: 1041 entries, 0 to 1040\n",
      "Data columns (total 10 columns):\n",
      " #   Column   Non-Null Count  Dtype  \n",
      "---  ------   --------------  -----  \n",
      " 0   JOUR     1041 non-null   int64  \n",
      " 1   O3obs    1041 non-null   int64  \n",
      " 2   MOCAGE   1041 non-null   float64\n",
      " 3   TEMPE    1041 non-null   float64\n",
      " 4   RMH2O    1041 non-null   float64\n",
      " 5   NO2      1041 non-null   float64\n",
      " 6   NO       1041 non-null   float64\n",
      " 7   STATION  1041 non-null   object \n",
      " 8   VentMOD  1041 non-null   float64\n",
      " 9   VentANG  1041 non-null   float64\n",
      "dtypes: float64(7), int64(2), object(1)\n",
      "memory usage: 81.5+ KB\n"
     ]
    }
   ],
   "source": [
    "maDataFrame.info()"
   ]
  },
  {
   "cell_type": "code",
   "execution_count": 9,
   "metadata": {},
   "outputs": [
    {
     "data": {
      "text/plain": [
       "0        91\n",
       "1       100\n",
       "2        82\n",
       "3        94\n",
       "4       107\n",
       "       ... \n",
       "1036    116\n",
       "1037     60\n",
       "1038     74\n",
       "1039    121\n",
       "1040     93\n",
       "Name: O3obs, Length: 1041, dtype: int64"
      ]
     },
     "execution_count": 9,
     "metadata": {},
     "output_type": "execute_result"
    }
   ],
   "source": [
    "maDataFrame['O3obs']"
   ]
  },
  {
   "cell_type": "code",
   "execution_count": 10,
   "metadata": {},
   "outputs": [
    {
     "data": {
      "text/plain": [
       "0        91\n",
       "1       100\n",
       "2        82\n",
       "3        94\n",
       "4       107\n",
       "       ... \n",
       "1036    116\n",
       "1037     60\n",
       "1038     74\n",
       "1039    121\n",
       "1040     93\n",
       "Name: O3obs, Length: 1041, dtype: int64"
      ]
     },
     "execution_count": 10,
     "metadata": {},
     "output_type": "execute_result"
    }
   ],
   "source": [
    "maDataFrame.O3obs"
   ]
  },
  {
   "cell_type": "code",
   "execution_count": 11,
   "metadata": {},
   "outputs": [],
   "source": [
    "bloc1 = maDataFrame.iloc[10:15]"
   ]
  },
  {
   "cell_type": "code",
   "execution_count": 12,
   "metadata": {},
   "outputs": [
    {
     "data": {
      "text/html": [
       "<div>\n",
       "<style scoped>\n",
       "    .dataframe tbody tr th:only-of-type {\n",
       "        vertical-align: middle;\n",
       "    }\n",
       "\n",
       "    .dataframe tbody tr th {\n",
       "        vertical-align: top;\n",
       "    }\n",
       "\n",
       "    .dataframe thead th {\n",
       "        text-align: right;\n",
       "    }\n",
       "</style>\n",
       "<table border=\"1\" class=\"dataframe\">\n",
       "  <thead>\n",
       "    <tr style=\"text-align: right;\">\n",
       "      <th></th>\n",
       "      <th>JOUR</th>\n",
       "      <th>O3obs</th>\n",
       "      <th>MOCAGE</th>\n",
       "      <th>TEMPE</th>\n",
       "      <th>RMH2O</th>\n",
       "      <th>NO2</th>\n",
       "      <th>NO</th>\n",
       "      <th>STATION</th>\n",
       "      <th>VentMOD</th>\n",
       "      <th>VentANG</th>\n",
       "    </tr>\n",
       "  </thead>\n",
       "  <tbody>\n",
       "    <tr>\n",
       "      <th>10</th>\n",
       "      <td>0</td>\n",
       "      <td>118</td>\n",
       "      <td>72.6</td>\n",
       "      <td>22.2</td>\n",
       "      <td>0.01626</td>\n",
       "      <td>4.258</td>\n",
       "      <td>1.304</td>\n",
       "      <td>Aix</td>\n",
       "      <td>5.9641</td>\n",
       "      <td>-0.60661</td>\n",
       "    </tr>\n",
       "    <tr>\n",
       "      <th>11</th>\n",
       "      <td>0</td>\n",
       "      <td>48</td>\n",
       "      <td>146.0</td>\n",
       "      <td>14.3</td>\n",
       "      <td>0.01453</td>\n",
       "      <td>13.664</td>\n",
       "      <td>2.976</td>\n",
       "      <td>Aix</td>\n",
       "      <td>5.8034</td>\n",
       "      <td>-0.03447</td>\n",
       "    </tr>\n",
       "    <tr>\n",
       "      <th>12</th>\n",
       "      <td>0</td>\n",
       "      <td>97</td>\n",
       "      <td>87.5</td>\n",
       "      <td>18.5</td>\n",
       "      <td>0.00959</td>\n",
       "      <td>4.126</td>\n",
       "      <td>1.271</td>\n",
       "      <td>Aix</td>\n",
       "      <td>7.5273</td>\n",
       "      <td>0.33856</td>\n",
       "    </tr>\n",
       "    <tr>\n",
       "      <th>13</th>\n",
       "      <td>1</td>\n",
       "      <td>83</td>\n",
       "      <td>158.9</td>\n",
       "      <td>15.4</td>\n",
       "      <td>0.01456</td>\n",
       "      <td>10.254</td>\n",
       "      <td>1.839</td>\n",
       "      <td>Aix</td>\n",
       "      <td>2.5942</td>\n",
       "      <td>0.48089</td>\n",
       "    </tr>\n",
       "    <tr>\n",
       "      <th>14</th>\n",
       "      <td>1</td>\n",
       "      <td>73</td>\n",
       "      <td>112.6</td>\n",
       "      <td>19.6</td>\n",
       "      <td>0.01220</td>\n",
       "      <td>1.955</td>\n",
       "      <td>0.445</td>\n",
       "      <td>Aix</td>\n",
       "      <td>8.8752</td>\n",
       "      <td>-0.58488</td>\n",
       "    </tr>\n",
       "  </tbody>\n",
       "</table>\n",
       "</div>"
      ],
      "text/plain": [
       "    JOUR  O3obs  MOCAGE  TEMPE    RMH2O     NO2     NO STATION  VentMOD  \\\n",
       "10     0    118    72.6   22.2  0.01626   4.258  1.304     Aix   5.9641   \n",
       "11     0     48   146.0   14.3  0.01453  13.664  2.976     Aix   5.8034   \n",
       "12     0     97    87.5   18.5  0.00959   4.126  1.271     Aix   7.5273   \n",
       "13     1     83   158.9   15.4  0.01456  10.254  1.839     Aix   2.5942   \n",
       "14     1     73   112.6   19.6  0.01220   1.955  0.445     Aix   8.8752   \n",
       "\n",
       "    VentANG  \n",
       "10 -0.60661  \n",
       "11 -0.03447  \n",
       "12  0.33856  \n",
       "13  0.48089  \n",
       "14 -0.58488  "
      ]
     },
     "execution_count": 12,
     "metadata": {},
     "output_type": "execute_result"
    }
   ],
   "source": [
    "bloc1"
   ]
  },
  {
   "cell_type": "code",
   "execution_count": 13,
   "metadata": {},
   "outputs": [
    {
     "name": "stdout",
     "output_type": "stream",
     "text": [
      "La valeur à lindice [10] : \n",
      "JOUR             0\n",
      "O3obs          118\n",
      "MOCAGE        72.6\n",
      "TEMPE         22.2\n",
      "RMH2O      0.01626\n",
      "NO2          4.258\n",
      "NO           1.304\n",
      "STATION        Aix\n",
      "VentMOD     5.9641\n",
      "VentANG   -0.60661\n",
      "Name: 10, dtype: object\n",
      "\n",
      "\n",
      "La valeur à lindice [11] : \n",
      "JOUR             0\n",
      "O3obs           48\n",
      "MOCAGE         146\n",
      "TEMPE         14.3\n",
      "RMH2O      0.01453\n",
      "NO2         13.664\n",
      "NO           2.976\n",
      "STATION        Aix\n",
      "VentMOD     5.8034\n",
      "VentANG   -0.03447\n",
      "Name: 11, dtype: object\n",
      "\n",
      "\n",
      "La valeur à lindice [12] : \n",
      "JOUR             0\n",
      "O3obs           97\n",
      "MOCAGE        87.5\n",
      "TEMPE         18.5\n",
      "RMH2O      0.00959\n",
      "NO2          4.126\n",
      "NO           1.271\n",
      "STATION        Aix\n",
      "VentMOD     7.5273\n",
      "VentANG    0.33856\n",
      "Name: 12, dtype: object\n",
      "\n",
      "\n",
      "La valeur à lindice [13] : \n",
      "JOUR             1\n",
      "O3obs           83\n",
      "MOCAGE       158.9\n",
      "TEMPE         15.4\n",
      "RMH2O      0.01456\n",
      "NO2         10.254\n",
      "NO           1.839\n",
      "STATION        Aix\n",
      "VentMOD     2.5942\n",
      "VentANG    0.48089\n",
      "Name: 13, dtype: object\n",
      "\n",
      "\n",
      "La valeur à lindice [14] : \n",
      "JOUR             1\n",
      "O3obs           73\n",
      "MOCAGE       112.6\n",
      "TEMPE         19.6\n",
      "RMH2O       0.0122\n",
      "NO2          1.955\n",
      "NO           0.445\n",
      "STATION        Aix\n",
      "VentMOD     8.8752\n",
      "VentANG   -0.58488\n",
      "Name: 14, dtype: object\n",
      "\n",
      "\n"
     ]
    }
   ],
   "source": [
    "for index, row in bloc1.iterrows():\n",
    "    print(\"La valeur à lindice [{}] : \\n{}\\n\\n\".format(index, row))"
   ]
  },
  {
   "cell_type": "code",
   "execution_count": 14,
   "metadata": {},
   "outputs": [],
   "source": [
    "bloc2= maDataFrame.iloc[10:15,0:3]"
   ]
  },
  {
   "cell_type": "code",
   "execution_count": 15,
   "metadata": {},
   "outputs": [
    {
     "data": {
      "text/html": [
       "<div>\n",
       "<style scoped>\n",
       "    .dataframe tbody tr th:only-of-type {\n",
       "        vertical-align: middle;\n",
       "    }\n",
       "\n",
       "    .dataframe tbody tr th {\n",
       "        vertical-align: top;\n",
       "    }\n",
       "\n",
       "    .dataframe thead th {\n",
       "        text-align: right;\n",
       "    }\n",
       "</style>\n",
       "<table border=\"1\" class=\"dataframe\">\n",
       "  <thead>\n",
       "    <tr style=\"text-align: right;\">\n",
       "      <th></th>\n",
       "      <th>JOUR</th>\n",
       "      <th>O3obs</th>\n",
       "      <th>MOCAGE</th>\n",
       "    </tr>\n",
       "  </thead>\n",
       "  <tbody>\n",
       "    <tr>\n",
       "      <th>10</th>\n",
       "      <td>0</td>\n",
       "      <td>118</td>\n",
       "      <td>72.6</td>\n",
       "    </tr>\n",
       "    <tr>\n",
       "      <th>11</th>\n",
       "      <td>0</td>\n",
       "      <td>48</td>\n",
       "      <td>146.0</td>\n",
       "    </tr>\n",
       "    <tr>\n",
       "      <th>12</th>\n",
       "      <td>0</td>\n",
       "      <td>97</td>\n",
       "      <td>87.5</td>\n",
       "    </tr>\n",
       "    <tr>\n",
       "      <th>13</th>\n",
       "      <td>1</td>\n",
       "      <td>83</td>\n",
       "      <td>158.9</td>\n",
       "    </tr>\n",
       "    <tr>\n",
       "      <th>14</th>\n",
       "      <td>1</td>\n",
       "      <td>73</td>\n",
       "      <td>112.6</td>\n",
       "    </tr>\n",
       "  </tbody>\n",
       "</table>\n",
       "</div>"
      ],
      "text/plain": [
       "    JOUR  O3obs  MOCAGE\n",
       "10     0    118    72.6\n",
       "11     0     48   146.0\n",
       "12     0     97    87.5\n",
       "13     1     83   158.9\n",
       "14     1     73   112.6"
      ]
     },
     "execution_count": 15,
     "metadata": {},
     "output_type": "execute_result"
    }
   ],
   "source": [
    "bloc2"
   ]
  },
  {
   "cell_type": "code",
   "execution_count": 16,
   "metadata": {
    "scrolled": true
   },
   "outputs": [
    {
     "data": {
      "text/html": [
       "<div>\n",
       "<style scoped>\n",
       "    .dataframe tbody tr th:only-of-type {\n",
       "        vertical-align: middle;\n",
       "    }\n",
       "\n",
       "    .dataframe tbody tr th {\n",
       "        vertical-align: top;\n",
       "    }\n",
       "\n",
       "    .dataframe thead th {\n",
       "        text-align: right;\n",
       "    }\n",
       "</style>\n",
       "<table border=\"1\" class=\"dataframe\">\n",
       "  <thead>\n",
       "    <tr style=\"text-align: right;\">\n",
       "      <th></th>\n",
       "      <th>index</th>\n",
       "      <th>JOUR</th>\n",
       "      <th>O3obs</th>\n",
       "      <th>MOCAGE</th>\n",
       "    </tr>\n",
       "  </thead>\n",
       "  <tbody>\n",
       "    <tr>\n",
       "      <th>0</th>\n",
       "      <td>10</td>\n",
       "      <td>0</td>\n",
       "      <td>118</td>\n",
       "      <td>72.6</td>\n",
       "    </tr>\n",
       "    <tr>\n",
       "      <th>1</th>\n",
       "      <td>11</td>\n",
       "      <td>0</td>\n",
       "      <td>48</td>\n",
       "      <td>146.0</td>\n",
       "    </tr>\n",
       "    <tr>\n",
       "      <th>2</th>\n",
       "      <td>12</td>\n",
       "      <td>0</td>\n",
       "      <td>97</td>\n",
       "      <td>87.5</td>\n",
       "    </tr>\n",
       "    <tr>\n",
       "      <th>3</th>\n",
       "      <td>13</td>\n",
       "      <td>1</td>\n",
       "      <td>83</td>\n",
       "      <td>158.9</td>\n",
       "    </tr>\n",
       "    <tr>\n",
       "      <th>4</th>\n",
       "      <td>14</td>\n",
       "      <td>1</td>\n",
       "      <td>73</td>\n",
       "      <td>112.6</td>\n",
       "    </tr>\n",
       "  </tbody>\n",
       "</table>\n",
       "</div>"
      ],
      "text/plain": [
       "   index  JOUR  O3obs  MOCAGE\n",
       "0     10     0    118    72.6\n",
       "1     11     0     48   146.0\n",
       "2     12     0     97    87.5\n",
       "3     13     1     83   158.9\n",
       "4     14     1     73   112.6"
      ]
     },
     "execution_count": 16,
     "metadata": {},
     "output_type": "execute_result"
    }
   ],
   "source": [
    "bloc2.reset_index()"
   ]
  },
  {
   "cell_type": "code",
   "execution_count": 17,
   "metadata": {},
   "outputs": [
    {
     "data": {
      "text/html": [
       "<div>\n",
       "<style scoped>\n",
       "    .dataframe tbody tr th:only-of-type {\n",
       "        vertical-align: middle;\n",
       "    }\n",
       "\n",
       "    .dataframe tbody tr th {\n",
       "        vertical-align: top;\n",
       "    }\n",
       "\n",
       "    .dataframe thead th {\n",
       "        text-align: right;\n",
       "    }\n",
       "</style>\n",
       "<table border=\"1\" class=\"dataframe\">\n",
       "  <thead>\n",
       "    <tr style=\"text-align: right;\">\n",
       "      <th></th>\n",
       "      <th>JOUR</th>\n",
       "      <th>O3obs</th>\n",
       "      <th>MOCAGE</th>\n",
       "    </tr>\n",
       "  </thead>\n",
       "  <tbody>\n",
       "    <tr>\n",
       "      <th>10</th>\n",
       "      <td>0</td>\n",
       "      <td>118</td>\n",
       "      <td>72.6</td>\n",
       "    </tr>\n",
       "    <tr>\n",
       "      <th>11</th>\n",
       "      <td>0</td>\n",
       "      <td>48</td>\n",
       "      <td>146.0</td>\n",
       "    </tr>\n",
       "    <tr>\n",
       "      <th>12</th>\n",
       "      <td>0</td>\n",
       "      <td>97</td>\n",
       "      <td>87.5</td>\n",
       "    </tr>\n",
       "    <tr>\n",
       "      <th>13</th>\n",
       "      <td>1</td>\n",
       "      <td>83</td>\n",
       "      <td>158.9</td>\n",
       "    </tr>\n",
       "    <tr>\n",
       "      <th>14</th>\n",
       "      <td>1</td>\n",
       "      <td>73</td>\n",
       "      <td>112.6</td>\n",
       "    </tr>\n",
       "  </tbody>\n",
       "</table>\n",
       "</div>"
      ],
      "text/plain": [
       "    JOUR  O3obs  MOCAGE\n",
       "10     0    118    72.6\n",
       "11     0     48   146.0\n",
       "12     0     97    87.5\n",
       "13     1     83   158.9\n",
       "14     1     73   112.6"
      ]
     },
     "execution_count": 17,
     "metadata": {},
     "output_type": "execute_result"
    }
   ],
   "source": [
    "bloc2"
   ]
  },
  {
   "cell_type": "code",
   "execution_count": 19,
   "metadata": {},
   "outputs": [],
   "source": [
    "bloc2.reset_index(inplace=True)"
   ]
  },
  {
   "cell_type": "code",
   "execution_count": 20,
   "metadata": {},
   "outputs": [
    {
     "data": {
      "text/html": [
       "<div>\n",
       "<style scoped>\n",
       "    .dataframe tbody tr th:only-of-type {\n",
       "        vertical-align: middle;\n",
       "    }\n",
       "\n",
       "    .dataframe tbody tr th {\n",
       "        vertical-align: top;\n",
       "    }\n",
       "\n",
       "    .dataframe thead th {\n",
       "        text-align: right;\n",
       "    }\n",
       "</style>\n",
       "<table border=\"1\" class=\"dataframe\">\n",
       "  <thead>\n",
       "    <tr style=\"text-align: right;\">\n",
       "      <th></th>\n",
       "      <th>index</th>\n",
       "      <th>JOUR</th>\n",
       "      <th>O3obs</th>\n",
       "      <th>MOCAGE</th>\n",
       "    </tr>\n",
       "  </thead>\n",
       "  <tbody>\n",
       "    <tr>\n",
       "      <th>0</th>\n",
       "      <td>10</td>\n",
       "      <td>0</td>\n",
       "      <td>118</td>\n",
       "      <td>72.6</td>\n",
       "    </tr>\n",
       "    <tr>\n",
       "      <th>1</th>\n",
       "      <td>11</td>\n",
       "      <td>0</td>\n",
       "      <td>48</td>\n",
       "      <td>146.0</td>\n",
       "    </tr>\n",
       "    <tr>\n",
       "      <th>2</th>\n",
       "      <td>12</td>\n",
       "      <td>0</td>\n",
       "      <td>97</td>\n",
       "      <td>87.5</td>\n",
       "    </tr>\n",
       "    <tr>\n",
       "      <th>3</th>\n",
       "      <td>13</td>\n",
       "      <td>1</td>\n",
       "      <td>83</td>\n",
       "      <td>158.9</td>\n",
       "    </tr>\n",
       "    <tr>\n",
       "      <th>4</th>\n",
       "      <td>14</td>\n",
       "      <td>1</td>\n",
       "      <td>73</td>\n",
       "      <td>112.6</td>\n",
       "    </tr>\n",
       "  </tbody>\n",
       "</table>\n",
       "</div>"
      ],
      "text/plain": [
       "   index  JOUR  O3obs  MOCAGE\n",
       "0     10     0    118    72.6\n",
       "1     11     0     48   146.0\n",
       "2     12     0     97    87.5\n",
       "3     13     1     83   158.9\n",
       "4     14     1     73   112.6"
      ]
     },
     "execution_count": 20,
     "metadata": {},
     "output_type": "execute_result"
    }
   ],
   "source": [
    "bloc2"
   ]
  },
  {
   "cell_type": "code",
   "execution_count": 21,
   "metadata": {},
   "outputs": [
    {
     "data": {
      "text/plain": [
       "10"
      ]
     },
     "execution_count": 21,
     "metadata": {},
     "output_type": "execute_result"
    }
   ],
   "source": [
    "bloc2.iloc[0,0]"
   ]
  },
  {
   "cell_type": "code",
   "execution_count": 22,
   "metadata": {},
   "outputs": [
    {
     "data": {
      "text/plain": [
       "118"
      ]
     },
     "execution_count": 22,
     "metadata": {},
     "output_type": "execute_result"
    }
   ],
   "source": [
    "bloc2.iloc[0,2]"
   ]
  },
  {
   "cell_type": "code",
   "execution_count": 23,
   "metadata": {},
   "outputs": [
    {
     "data": {
      "text/plain": [
       "112.6"
      ]
     },
     "execution_count": 23,
     "metadata": {},
     "output_type": "execute_result"
    }
   ],
   "source": [
    "bloc2.iloc[4,3]"
   ]
  },
  {
   "cell_type": "code",
   "execution_count": null,
   "metadata": {},
   "outputs": [],
   "source": []
  }
 ],
 "metadata": {
  "kernelspec": {
   "display_name": "Python 3",
   "language": "python",
   "name": "python3"
  },
  "language_info": {
   "codemirror_mode": {
    "name": "ipython",
    "version": 3
   },
   "file_extension": ".py",
   "mimetype": "text/x-python",
   "name": "python",
   "nbconvert_exporter": "python",
   "pygments_lexer": "ipython3",
   "version": "3.7.6"
  }
 },
 "nbformat": 4,
 "nbformat_minor": 4
}
