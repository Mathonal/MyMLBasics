{
 "cells": [
  {
   "cell_type": "code",
   "execution_count": 10,
   "metadata": {},
   "outputs": [],
   "source": [
    "import pandas as pd\n",
    "import scipy.stats\n",
    " "
   ]
  },
  {
   "cell_type": "code",
   "execution_count": 11,
   "metadata": {},
   "outputs": [],
   "source": [
    "maDataFrame = pd.read_csv('../../Data/ozone.csv')"
   ]
  },
  {
   "cell_type": "code",
   "execution_count": 12,
   "metadata": {
    "scrolled": true
   },
   "outputs": [
    {
     "data": {
      "text/html": [
       "<div>\n",
       "<style scoped>\n",
       "    .dataframe tbody tr th:only-of-type {\n",
       "        vertical-align: middle;\n",
       "    }\n",
       "\n",
       "    .dataframe tbody tr th {\n",
       "        vertical-align: top;\n",
       "    }\n",
       "\n",
       "    .dataframe thead th {\n",
       "        text-align: right;\n",
       "    }\n",
       "</style>\n",
       "<table border=\"1\" class=\"dataframe\">\n",
       "  <thead>\n",
       "    <tr style=\"text-align: right;\">\n",
       "      <th></th>\n",
       "      <th>JOUR</th>\n",
       "      <th>O3obs</th>\n",
       "      <th>MOCAGE</th>\n",
       "      <th>TEMPE</th>\n",
       "      <th>RMH2O</th>\n",
       "      <th>NO2</th>\n",
       "      <th>NO</th>\n",
       "      <th>STATION</th>\n",
       "      <th>VentMOD</th>\n",
       "      <th>VentANG</th>\n",
       "    </tr>\n",
       "  </thead>\n",
       "  <tbody>\n",
       "    <tr>\n",
       "      <th>0</th>\n",
       "      <td>1</td>\n",
       "      <td>91</td>\n",
       "      <td>93.2</td>\n",
       "      <td>21.5</td>\n",
       "      <td>0.00847</td>\n",
       "      <td>1.602</td>\n",
       "      <td>0.424</td>\n",
       "      <td>Aix</td>\n",
       "      <td>9.5000</td>\n",
       "      <td>-0.64350</td>\n",
       "    </tr>\n",
       "    <tr>\n",
       "      <th>1</th>\n",
       "      <td>1</td>\n",
       "      <td>100</td>\n",
       "      <td>104.6</td>\n",
       "      <td>20.2</td>\n",
       "      <td>0.00881</td>\n",
       "      <td>2.121</td>\n",
       "      <td>0.531</td>\n",
       "      <td>Aix</td>\n",
       "      <td>8.0100</td>\n",
       "      <td>-0.04996</td>\n",
       "    </tr>\n",
       "    <tr>\n",
       "      <th>2</th>\n",
       "      <td>0</td>\n",
       "      <td>82</td>\n",
       "      <td>103.6</td>\n",
       "      <td>17.4</td>\n",
       "      <td>0.00951</td>\n",
       "      <td>1.657</td>\n",
       "      <td>0.467</td>\n",
       "      <td>Aix</td>\n",
       "      <td>9.3771</td>\n",
       "      <td>-0.12832</td>\n",
       "    </tr>\n",
       "    <tr>\n",
       "      <th>3</th>\n",
       "      <td>0</td>\n",
       "      <td>94</td>\n",
       "      <td>94.8</td>\n",
       "      <td>18.8</td>\n",
       "      <td>0.00855</td>\n",
       "      <td>2.350</td>\n",
       "      <td>0.701</td>\n",
       "      <td>Aix</td>\n",
       "      <td>9.4578</td>\n",
       "      <td>-0.34516</td>\n",
       "    </tr>\n",
       "    <tr>\n",
       "      <th>4</th>\n",
       "      <td>0</td>\n",
       "      <td>107</td>\n",
       "      <td>99.0</td>\n",
       "      <td>23.7</td>\n",
       "      <td>0.00731</td>\n",
       "      <td>1.653</td>\n",
       "      <td>0.452</td>\n",
       "      <td>Aix</td>\n",
       "      <td>7.8791</td>\n",
       "      <td>-0.41822</td>\n",
       "    </tr>\n",
       "    <tr>\n",
       "      <th>...</th>\n",
       "      <td>...</td>\n",
       "      <td>...</td>\n",
       "      <td>...</td>\n",
       "      <td>...</td>\n",
       "      <td>...</td>\n",
       "      <td>...</td>\n",
       "      <td>...</td>\n",
       "      <td>...</td>\n",
       "      <td>...</td>\n",
       "      <td>...</td>\n",
       "    </tr>\n",
       "    <tr>\n",
       "      <th>1036</th>\n",
       "      <td>0</td>\n",
       "      <td>116</td>\n",
       "      <td>233.6</td>\n",
       "      <td>22.1</td>\n",
       "      <td>0.01048</td>\n",
       "      <td>4.843</td>\n",
       "      <td>0.431</td>\n",
       "      <td>Pla</td>\n",
       "      <td>4.8052</td>\n",
       "      <td>-0.20964</td>\n",
       "    </tr>\n",
       "    <tr>\n",
       "      <th>1037</th>\n",
       "      <td>0</td>\n",
       "      <td>60</td>\n",
       "      <td>162.5</td>\n",
       "      <td>15.8</td>\n",
       "      <td>0.00789</td>\n",
       "      <td>3.166</td>\n",
       "      <td>0.411</td>\n",
       "      <td>Pla</td>\n",
       "      <td>2.7203</td>\n",
       "      <td>-0.62880</td>\n",
       "    </tr>\n",
       "    <tr>\n",
       "      <th>1038</th>\n",
       "      <td>0</td>\n",
       "      <td>74</td>\n",
       "      <td>198.4</td>\n",
       "      <td>16.2</td>\n",
       "      <td>0.00811</td>\n",
       "      <td>8.349</td>\n",
       "      <td>0.942</td>\n",
       "      <td>Pla</td>\n",
       "      <td>4.0311</td>\n",
       "      <td>0.12435</td>\n",
       "    </tr>\n",
       "    <tr>\n",
       "      <th>1039</th>\n",
       "      <td>0</td>\n",
       "      <td>121</td>\n",
       "      <td>191.7</td>\n",
       "      <td>16.4</td>\n",
       "      <td>0.00722</td>\n",
       "      <td>2.101</td>\n",
       "      <td>0.199</td>\n",
       "      <td>Pla</td>\n",
       "      <td>3.8000</td>\n",
       "      <td>0.00000</td>\n",
       "    </tr>\n",
       "    <tr>\n",
       "      <th>1040</th>\n",
       "      <td>1</td>\n",
       "      <td>93</td>\n",
       "      <td>221.2</td>\n",
       "      <td>16.7</td>\n",
       "      <td>0.00919</td>\n",
       "      <td>2.290</td>\n",
       "      <td>0.202</td>\n",
       "      <td>Pla</td>\n",
       "      <td>2.3022</td>\n",
       "      <td>0.04345</td>\n",
       "    </tr>\n",
       "  </tbody>\n",
       "</table>\n",
       "<p>1041 rows × 10 columns</p>\n",
       "</div>"
      ],
      "text/plain": [
       "      JOUR  O3obs  MOCAGE  TEMPE    RMH2O    NO2     NO STATION  VentMOD  \\\n",
       "0        1     91    93.2   21.5  0.00847  1.602  0.424     Aix   9.5000   \n",
       "1        1    100   104.6   20.2  0.00881  2.121  0.531     Aix   8.0100   \n",
       "2        0     82   103.6   17.4  0.00951  1.657  0.467     Aix   9.3771   \n",
       "3        0     94    94.8   18.8  0.00855  2.350  0.701     Aix   9.4578   \n",
       "4        0    107    99.0   23.7  0.00731  1.653  0.452     Aix   7.8791   \n",
       "...    ...    ...     ...    ...      ...    ...    ...     ...      ...   \n",
       "1036     0    116   233.6   22.1  0.01048  4.843  0.431     Pla   4.8052   \n",
       "1037     0     60   162.5   15.8  0.00789  3.166  0.411     Pla   2.7203   \n",
       "1038     0     74   198.4   16.2  0.00811  8.349  0.942     Pla   4.0311   \n",
       "1039     0    121   191.7   16.4  0.00722  2.101  0.199     Pla   3.8000   \n",
       "1040     1     93   221.2   16.7  0.00919  2.290  0.202     Pla   2.3022   \n",
       "\n",
       "      VentANG  \n",
       "0    -0.64350  \n",
       "1    -0.04996  \n",
       "2    -0.12832  \n",
       "3    -0.34516  \n",
       "4    -0.41822  \n",
       "...       ...  \n",
       "1036 -0.20964  \n",
       "1037 -0.62880  \n",
       "1038  0.12435  \n",
       "1039  0.00000  \n",
       "1040  0.04345  \n",
       "\n",
       "[1041 rows x 10 columns]"
      ]
     },
     "execution_count": 12,
     "metadata": {},
     "output_type": "execute_result"
    }
   ],
   "source": [
    "maDataFrame"
   ]
  },
  {
   "cell_type": "code",
   "execution_count": 13,
   "metadata": {
    "scrolled": true
   },
   "outputs": [
    {
     "data": {
      "text/plain": [
       "19"
      ]
     },
     "execution_count": 13,
     "metadata": {},
     "output_type": "execute_result"
    }
   ],
   "source": [
    "maDataFrame.O3obs.min()"
   ]
  },
  {
   "cell_type": "code",
   "execution_count": 14,
   "metadata": {},
   "outputs": [
    {
     "data": {
      "text/plain": [
       "319"
      ]
     },
     "execution_count": 14,
     "metadata": {},
     "output_type": "execute_result"
    }
   ],
   "source": [
    "maDataFrame.O3obs.max()"
   ]
  },
  {
   "cell_type": "code",
   "execution_count": 15,
   "metadata": {},
   "outputs": [
    {
     "data": {
      "text/plain": [
       "115.40057636887607"
      ]
     },
     "execution_count": 15,
     "metadata": {},
     "output_type": "execute_result"
    }
   ],
   "source": [
    "maDataFrame.O3obs.mean()"
   ]
  },
  {
   "cell_type": "code",
   "execution_count": 16,
   "metadata": {},
   "outputs": [
    {
     "data": {
      "text/plain": [
       "1680.9307304367082"
      ]
     },
     "execution_count": 16,
     "metadata": {},
     "output_type": "execute_result"
    }
   ],
   "source": [
    "maDataFrame.O3obs.var()"
   ]
  },
  {
   "cell_type": "code",
   "execution_count": 8,
   "metadata": {},
   "outputs": [
    {
     "data": {
      "text/plain": [
       "1679.316003510256"
      ]
     },
     "execution_count": 8,
     "metadata": {},
     "output_type": "execute_result"
    }
   ],
   "source": [
    "maDataFrame.O3obs.var(ddof=0)"
   ]
  },
  {
   "cell_type": "code",
   "execution_count": 17,
   "metadata": {},
   "outputs": [
    {
     "data": {
      "text/plain": [
       "1680.9307304367082"
      ]
     },
     "execution_count": 17,
     "metadata": {},
     "output_type": "execute_result"
    }
   ],
   "source": [
    "maDataFrame.O3obs.var(ddof=1)"
   ]
  },
  {
   "cell_type": "code",
   "execution_count": 18,
   "metadata": {},
   "outputs": [
    {
     "data": {
      "text/plain": [
       "0.25     87.0\n",
       "0.75    135.0\n",
       "Name: O3obs, dtype: float64"
      ]
     },
     "execution_count": 18,
     "metadata": {},
     "output_type": "execute_result"
    }
   ],
   "source": [
    "maDataFrame.O3obs.quantile([0.25,0.75])"
   ]
  },
  {
   "cell_type": "code",
   "execution_count": 18,
   "metadata": {},
   "outputs": [
    {
     "data": {
      "text/plain": [
       "109.0"
      ]
     },
     "execution_count": 18,
     "metadata": {},
     "output_type": "execute_result"
    }
   ],
   "source": [
    "maDataFrame.O3obs.quantile(0.5)"
   ]
  },
  {
   "cell_type": "code",
   "execution_count": 19,
   "metadata": {
    "scrolled": true
   },
   "outputs": [
    {
     "data": {
      "text/plain": [
       "109.0"
      ]
     },
     "execution_count": 19,
     "metadata": {},
     "output_type": "execute_result"
    }
   ],
   "source": [
    "maDataFrame.O3obs.median() "
   ]
  },
  {
   "cell_type": "code",
   "execution_count": 22,
   "metadata": {},
   "outputs": [],
   "source": [
    "l=[1,2]"
   ]
  },
  {
   "cell_type": "code",
   "execution_count": 24,
   "metadata": {},
   "outputs": [
    {
     "data": {
      "text/plain": [
       "99.90393852065321"
      ]
     },
     "execution_count": 24,
     "metadata": {},
     "output_type": "execute_result"
    }
   ],
   "source": [
    "scipy.stats.percentileofscore(maDataFrame.O3obs, 300)"
   ]
  },
  {
   "cell_type": "code",
   "execution_count": 16,
   "metadata": {
    "scrolled": true
   },
   "outputs": [
    {
     "data": {
      "text/html": [
       "<div>\n",
       "<style scoped>\n",
       "    .dataframe tbody tr th:only-of-type {\n",
       "        vertical-align: middle;\n",
       "    }\n",
       "\n",
       "    .dataframe tbody tr th {\n",
       "        vertical-align: top;\n",
       "    }\n",
       "\n",
       "    .dataframe thead th {\n",
       "        text-align: right;\n",
       "    }\n",
       "</style>\n",
       "<table border=\"1\" class=\"dataframe\">\n",
       "  <thead>\n",
       "    <tr style=\"text-align: right;\">\n",
       "      <th></th>\n",
       "      <th>JOUR</th>\n",
       "      <th>O3obs</th>\n",
       "      <th>MOCAGE</th>\n",
       "      <th>TEMPE</th>\n",
       "      <th>RMH2O</th>\n",
       "      <th>NO2</th>\n",
       "      <th>NO</th>\n",
       "      <th>VentMOD</th>\n",
       "      <th>VentANG</th>\n",
       "    </tr>\n",
       "  </thead>\n",
       "  <tbody>\n",
       "    <tr>\n",
       "      <th>count</th>\n",
       "      <td>1041.000000</td>\n",
       "      <td>1041.000000</td>\n",
       "      <td>1041.000000</td>\n",
       "      <td>1041.000000</td>\n",
       "      <td>1041.000000</td>\n",
       "      <td>1041.000000</td>\n",
       "      <td>1041.000000</td>\n",
       "      <td>1041.000000</td>\n",
       "      <td>1041.000000</td>\n",
       "    </tr>\n",
       "    <tr>\n",
       "      <th>mean</th>\n",
       "      <td>0.304515</td>\n",
       "      <td>115.400576</td>\n",
       "      <td>127.219693</td>\n",
       "      <td>23.883381</td>\n",
       "      <td>0.010251</td>\n",
       "      <td>3.504645</td>\n",
       "      <td>0.657417</td>\n",
       "      <td>5.907186</td>\n",
       "      <td>0.163111</td>\n",
       "    </tr>\n",
       "    <tr>\n",
       "      <th>std</th>\n",
       "      <td>0.460423</td>\n",
       "      <td>40.999155</td>\n",
       "      <td>39.820186</td>\n",
       "      <td>5.217462</td>\n",
       "      <td>0.003731</td>\n",
       "      <td>4.043308</td>\n",
       "      <td>0.844180</td>\n",
       "      <td>3.054307</td>\n",
       "      <td>0.708288</td>\n",
       "    </tr>\n",
       "    <tr>\n",
       "      <th>min</th>\n",
       "      <td>0.000000</td>\n",
       "      <td>19.000000</td>\n",
       "      <td>46.400000</td>\n",
       "      <td>10.400000</td>\n",
       "      <td>0.002850</td>\n",
       "      <td>0.258000</td>\n",
       "      <td>0.001000</td>\n",
       "      <td>0.141420</td>\n",
       "      <td>-1.570790</td>\n",
       "    </tr>\n",
       "    <tr>\n",
       "      <th>25%</th>\n",
       "      <td>0.000000</td>\n",
       "      <td>87.000000</td>\n",
       "      <td>97.500000</td>\n",
       "      <td>20.200000</td>\n",
       "      <td>0.007630</td>\n",
       "      <td>1.248000</td>\n",
       "      <td>0.236000</td>\n",
       "      <td>3.962320</td>\n",
       "      <td>-0.394790</td>\n",
       "    </tr>\n",
       "    <tr>\n",
       "      <th>50%</th>\n",
       "      <td>0.000000</td>\n",
       "      <td>109.000000</td>\n",
       "      <td>125.600000</td>\n",
       "      <td>23.800000</td>\n",
       "      <td>0.009850</td>\n",
       "      <td>2.109000</td>\n",
       "      <td>0.388000</td>\n",
       "      <td>5.597300</td>\n",
       "      <td>0.278300</td>\n",
       "    </tr>\n",
       "    <tr>\n",
       "      <th>75%</th>\n",
       "      <td>1.000000</td>\n",
       "      <td>135.000000</td>\n",
       "      <td>153.600000</td>\n",
       "      <td>27.600000</td>\n",
       "      <td>0.012440</td>\n",
       "      <td>4.062000</td>\n",
       "      <td>0.744000</td>\n",
       "      <td>7.106300</td>\n",
       "      <td>0.692640</td>\n",
       "    </tr>\n",
       "    <tr>\n",
       "      <th>max</th>\n",
       "      <td>1.000000</td>\n",
       "      <td>319.000000</td>\n",
       "      <td>284.700000</td>\n",
       "      <td>38.000000</td>\n",
       "      <td>0.027530</td>\n",
       "      <td>44.396000</td>\n",
       "      <td>9.429000</td>\n",
       "      <td>19.891000</td>\n",
       "      <td>1.570790</td>\n",
       "    </tr>\n",
       "  </tbody>\n",
       "</table>\n",
       "</div>"
      ],
      "text/plain": [
       "              JOUR        O3obs       MOCAGE        TEMPE        RMH2O  \\\n",
       "count  1041.000000  1041.000000  1041.000000  1041.000000  1041.000000   \n",
       "mean      0.304515   115.400576   127.219693    23.883381     0.010251   \n",
       "std       0.460423    40.999155    39.820186     5.217462     0.003731   \n",
       "min       0.000000    19.000000    46.400000    10.400000     0.002850   \n",
       "25%       0.000000    87.000000    97.500000    20.200000     0.007630   \n",
       "50%       0.000000   109.000000   125.600000    23.800000     0.009850   \n",
       "75%       1.000000   135.000000   153.600000    27.600000     0.012440   \n",
       "max       1.000000   319.000000   284.700000    38.000000     0.027530   \n",
       "\n",
       "               NO2           NO      VentMOD      VentANG  \n",
       "count  1041.000000  1041.000000  1041.000000  1041.000000  \n",
       "mean      3.504645     0.657417     5.907186     0.163111  \n",
       "std       4.043308     0.844180     3.054307     0.708288  \n",
       "min       0.258000     0.001000     0.141420    -1.570790  \n",
       "25%       1.248000     0.236000     3.962320    -0.394790  \n",
       "50%       2.109000     0.388000     5.597300     0.278300  \n",
       "75%       4.062000     0.744000     7.106300     0.692640  \n",
       "max      44.396000     9.429000    19.891000     1.570790  "
      ]
     },
     "execution_count": 16,
     "metadata": {},
     "output_type": "execute_result"
    }
   ],
   "source": [
    "maDataFrame.describe()"
   ]
  },
  {
   "cell_type": "code",
   "execution_count": 17,
   "metadata": {},
   "outputs": [
    {
     "data": {
      "text/html": [
       "<div>\n",
       "<style scoped>\n",
       "    .dataframe tbody tr th:only-of-type {\n",
       "        vertical-align: middle;\n",
       "    }\n",
       "\n",
       "    .dataframe tbody tr th {\n",
       "        vertical-align: top;\n",
       "    }\n",
       "\n",
       "    .dataframe thead th {\n",
       "        text-align: right;\n",
       "    }\n",
       "</style>\n",
       "<table border=\"1\" class=\"dataframe\">\n",
       "  <thead>\n",
       "    <tr style=\"text-align: right;\">\n",
       "      <th></th>\n",
       "      <th>O3obs</th>\n",
       "      <th>MOCAGE</th>\n",
       "      <th>TEMPE</th>\n",
       "    </tr>\n",
       "  </thead>\n",
       "  <tbody>\n",
       "    <tr>\n",
       "      <th>count</th>\n",
       "      <td>1041.000000</td>\n",
       "      <td>1041.000000</td>\n",
       "      <td>1041.000000</td>\n",
       "    </tr>\n",
       "    <tr>\n",
       "      <th>mean</th>\n",
       "      <td>115.400576</td>\n",
       "      <td>127.219693</td>\n",
       "      <td>23.883381</td>\n",
       "    </tr>\n",
       "    <tr>\n",
       "      <th>std</th>\n",
       "      <td>40.999155</td>\n",
       "      <td>39.820186</td>\n",
       "      <td>5.217462</td>\n",
       "    </tr>\n",
       "    <tr>\n",
       "      <th>min</th>\n",
       "      <td>19.000000</td>\n",
       "      <td>46.400000</td>\n",
       "      <td>10.400000</td>\n",
       "    </tr>\n",
       "    <tr>\n",
       "      <th>25%</th>\n",
       "      <td>87.000000</td>\n",
       "      <td>97.500000</td>\n",
       "      <td>20.200000</td>\n",
       "    </tr>\n",
       "    <tr>\n",
       "      <th>50%</th>\n",
       "      <td>109.000000</td>\n",
       "      <td>125.600000</td>\n",
       "      <td>23.800000</td>\n",
       "    </tr>\n",
       "    <tr>\n",
       "      <th>75%</th>\n",
       "      <td>135.000000</td>\n",
       "      <td>153.600000</td>\n",
       "      <td>27.600000</td>\n",
       "    </tr>\n",
       "    <tr>\n",
       "      <th>max</th>\n",
       "      <td>319.000000</td>\n",
       "      <td>284.700000</td>\n",
       "      <td>38.000000</td>\n",
       "    </tr>\n",
       "  </tbody>\n",
       "</table>\n",
       "</div>"
      ],
      "text/plain": [
       "             O3obs       MOCAGE        TEMPE\n",
       "count  1041.000000  1041.000000  1041.000000\n",
       "mean    115.400576   127.219693    23.883381\n",
       "std      40.999155    39.820186     5.217462\n",
       "min      19.000000    46.400000    10.400000\n",
       "25%      87.000000    97.500000    20.200000\n",
       "50%     109.000000   125.600000    23.800000\n",
       "75%     135.000000   153.600000    27.600000\n",
       "max     319.000000   284.700000    38.000000"
      ]
     },
     "execution_count": 17,
     "metadata": {},
     "output_type": "execute_result"
    }
   ],
   "source": [
    "maDataFrame.describe()[['O3obs','MOCAGE','TEMPE']]"
   ]
  },
  {
   "cell_type": "code",
   "execution_count": null,
   "metadata": {},
   "outputs": [],
   "source": []
  }
 ],
 "metadata": {
  "kernelspec": {
   "display_name": "Python 3",
   "language": "python",
   "name": "python3"
  },
  "language_info": {
   "codemirror_mode": {
    "name": "ipython",
    "version": 3
   },
   "file_extension": ".py",
   "mimetype": "text/x-python",
   "name": "python",
   "nbconvert_exporter": "python",
   "pygments_lexer": "ipython3",
   "version": "3.8.5"
  }
 },
 "nbformat": 4,
 "nbformat_minor": 4
}
