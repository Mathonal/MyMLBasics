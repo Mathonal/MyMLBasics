{
 "cells": [
  {
   "cell_type": "code",
   "execution_count": 1,
   "metadata": {},
   "outputs": [],
   "source": [
    "import math\n",
    "import numpy as np\n",
    "import pandas as pd\n",
    "\n",
    "import matplotlib  \n",
    "import matplotlib.pyplot as plt\n",
    "\n",
    "%matplotlib inline"
   ]
  },
  {
   "cell_type": "code",
   "execution_count": 2,
   "metadata": {},
   "outputs": [],
   "source": [
    "data = data = np.random.randn(100000)"
   ]
  },
  {
   "cell_type": "code",
   "execution_count": 3,
   "metadata": {},
   "outputs": [
    {
     "data": {
      "image/png": "[encoded data removed]",
      "text/plain": [
       "<Figure size 432x288 with 1 Axes>"
      ]
     },
     "metadata": {
      "needs_background": "light"
     },
     "output_type": "display_data"
    }
   ],
   "source": [
    "hx, hy, _ = plt.hist(data, bins=100, density=1,color=\"red\")\n",
    "plt.ylim(0.0,max(hx)+0.05)\n",
    "plt.title('Echantionnage avec une loi normale')\n",
    "plt.grid()"
   ]
  },
  {
   "cell_type": "markdown",
   "metadata": {},
   "source": [
    "# CONFIDENCE INTERVAL"
   ]
  },
  {
   "cell_type": "code",
   "execution_count": 4,
   "metadata": {},
   "outputs": [],
   "source": [
    "import scipy.stats\n",
    "# CREATE DATAFRAME OF ONE COLUMN SAMPLE VALUES DIMENSIONED AS WANTED\n",
    "def Echantion(n):\n",
    "    return pd.DataFrame({'Valeur': np.random.randn(n)})\n",
    "\n",
    "# YIELD DOMAINS [min; max] in which (1-alpha) percent of values will fall in \n",
    "def quantiles(n=1000, alpha=0.05):\n",
    "    dist = Echantion(n)\n",
    "    valmin=dist.Valeur.quantile(alpha/2)\n",
    "    valmax=dist.Valeur.quantile(1-(alpha/2))                     \n",
    "    print('Confidence interval containing {}% of values : ({},{})'.format((1-alpha)*100, valmin,valmax))\n",
    "    \n",
    "    return dist.Valeur.quantile(alpha/2), dist.Valeur.quantile(1-(alpha/2))"
   ]
  },
  {
   "cell_type": "code",
   "execution_count": 5,
   "metadata": {},
   "outputs": [
    {
     "name": "stdout",
     "output_type": "stream",
     "text": [
      "Confidence interval containing 95.0% of values : (-1.8540228221457309,1.9703937923141468)\n",
      "Confidence interval containing 90.0% of values : (-1.7524538607962643,1.6368270160811942)\n",
      "Confidence interval containing 70.0% of values : (-1.0221249436367883,1.0212302232632178)\n"
     ]
    },
    {
     "data": {
      "text/plain": [
       "(-1.0221249436367883, 1.0212302232632178)"
      ]
     },
     "execution_count": 5,
     "metadata": {},
     "output_type": "execute_result"
    }
   ],
   "source": [
    "quantiles(n=1000, alpha=0.05)\n",
    "quantiles(n=1000, alpha=0.1)\n",
    "quantiles(n=1000, alpha=0.30)"
   ]
  },
  {
   "cell_type": "code",
   "execution_count": 6,
   "metadata": {},
   "outputs": [
    {
     "name": "stdout",
     "output_type": "stream",
     "text": [
      "value for which 99% of sample value are inferior :\n"
     ]
    },
    {
     "data": {
      "text/plain": [
       "2.333537822010841"
      ]
     },
     "execution_count": 6,
     "metadata": {},
     "output_type": "execute_result"
    }
   ],
   "source": [
    "# GET CONFIDENCE INTERNAL \n",
    "print('value for which 99% of sample value are inferior :')\n",
    "scipy.stats.scoreatpercentile(data,99)"
   ]
  },
  {
   "cell_type": "markdown",
   "metadata": {},
   "source": [
    "# MEAN ESTIMATION"
   ]
  },
  {
   "cell_type": "code",
   "execution_count": 7,
   "metadata": {},
   "outputs": [
    {
     "data": {
      "text/plain": [
       "<matplotlib.axes._subplots.AxesSubplot at 0x7fbefc199cd0>"
      ]
     },
     "execution_count": 7,
     "metadata": {},
     "output_type": "execute_result"
    },
    {
     "data": {
      "image/png": "[encoded data removed]",
      "text/plain": [
       "<Figure size 432x288 with 1 Axes>"
      ]
     },
     "metadata": {
      "needs_background": "light"
     },
     "output_type": "display_data"
    }
   ],
   "source": [
    "sample1 = Echantion(10000)\n",
    "sample1.Valeur.hist(histtype='step', bins=60)"
   ]
  },
  {
   "cell_type": "code",
   "execution_count": 8,
   "metadata": {},
   "outputs": [
    {
     "data": {
      "text/plain": [
       "-0.0008006274180855671"
      ]
     },
     "execution_count": 8,
     "metadata": {},
     "output_type": "execute_result"
    }
   ],
   "source": [
    "np.mean(sample1.Valeur)"
   ]
  },
  {
   "cell_type": "code",
   "execution_count": 9,
   "metadata": {},
   "outputs": [
    {
     "name": "stdout",
     "output_type": "stream",
     "text": [
      "Confidence interval containing 90.0% of values : (-1.6147278435323966,1.6509009055010042)\n"
     ]
    },
    {
     "data": {
      "text/plain": [
       "(-1.6147278435323966, 1.6509009055010042)"
      ]
     },
     "execution_count": 9,
     "metadata": {},
     "output_type": "execute_result"
    }
   ],
   "source": [
    "# can DEFINE A CONFIDENCE INTERVAL OF MEAN USING QUANTILES\n",
    "# REAL POPULATION MEAN has x % probabilities to be in quantile domain \n",
    "quantiles(n=1000, alpha=0.1)"
   ]
  },
  {
   "cell_type": "markdown",
   "metadata": {},
   "source": [
    "# HYPOTHESE TESTING"
   ]
  },
  {
   "cell_type": "code",
   "execution_count": 10,
   "metadata": {},
   "outputs": [],
   "source": [
    "from scipy.stats import ttest_1samp as ttest1\n",
    "\n",
    "def Echantion_uni(n): # UNIFORM FUNCTION\n",
    "    return pd.DataFrame({'Valeur': np.random.rand(n)})"
   ]
  },
  {
   "cell_type": "code",
   "execution_count": 11,
   "metadata": {},
   "outputs": [
    {
     "name": "stdout",
     "output_type": "stream",
     "text": [
      "global mean : 0.4999482541286725\n"
     ]
    },
    {
     "data": {
      "image/png": "[encoded data removed]",
      "text/plain": [
       "<Figure size 432x288 with 1 Axes>"
      ]
     },
     "metadata": {
      "needs_background": "light"
     },
     "output_type": "display_data"
    }
   ],
   "source": [
    "# GENERATING A RANDOM POPULATION\n",
    "# population is normally not know (here will be used to verify our hypotheses)\n",
    "np.random.seed(1)\n",
    "population = Echantion_uni(1000000)\n",
    "population.Valeur.hist(histtype='step',bins=60)\n",
    "print ('global mean : {}'.format(np.mean(population.Valeur)))"
   ]
  },
  {
   "cell_type": "code",
   "execution_count": 12,
   "metadata": {},
   "outputs": [],
   "source": [
    "# CREATE A RANDOM SAMPLE FROM POPULATION\n",
    "sample1 = np.random.choice(population.Valeur, 100)\n",
    "sample2 = np.random.choice(population.loc[(population[\"Valeur\"]>0.3)].Valeur,100)"
   ]
  },
  {
   "cell_type": "code",
   "execution_count": 13,
   "metadata": {},
   "outputs": [
    {
     "name": "stdout",
     "output_type": "stream",
     "text": [
      "Hypothese accepted ! Pvalue : \n",
      "0.06927492027996687\n",
      "sample mean : 0.4489592682466618 // population mean : 0.4999482541286725\n"
     ]
    }
   ],
   "source": [
    "# TEST OF SAMPLE COMPARE TO POPLATION\n",
    "# H0 = sample MEAN = population mean\n",
    "s,p_value = ttest1(sample1, population.Valeur.mean())\n",
    "\n",
    "# H0 is considered OK if PVALUE > Reject_criteria = 5% , 1% , 0.025%\n",
    "if p_value > 0.05 : print('Hypothese accepted ! Pvalue : ')\n",
    "else : print('Hypothese rejected ! Pvalue : ')\n",
    "print(p_value)\n",
    "print('sample mean : {} // population mean : {}'.format(np.mean(sample1),np.mean(population.Valeur)))"
   ]
  },
  {
   "cell_type": "code",
   "execution_count": 14,
   "metadata": {},
   "outputs": [
    {
     "name": "stdout",
     "output_type": "stream",
     "text": [
      "Hypothese rejected ! Pvalue : \n",
      "1.4521385475066927e-10\n",
      "sample mean : 0.6475556989639624 // population mean : 0.4999482541286725\n"
     ]
    }
   ],
   "source": [
    "s,p_value = ttest1(sample2, population.Valeur.mean())\n",
    "\n",
    "# H0 is considered OK if PVALUE > Reject_criteria = 5% , 1% , 0.025%\n",
    "if p_value > 0.05 : print('Hypothese accepted ! Pvalue : ')\n",
    "else : print('Hypothese rejected ! Pvalue : ')\n",
    "print(p_value)\n",
    "print('sample mean : {} // population mean : {}'.format(np.mean(sample2),np.mean(population.Valeur)))"
   ]
  },
  {
   "cell_type": "code",
   "execution_count": null,
   "metadata": {},
   "outputs": [],
   "source": []
  }
 ],
 "metadata": {
  "kernelspec": {
   "display_name": "Python 3",
   "language": "python",
   "name": "python3"
  },
  "language_info": {
   "codemirror_mode": {
    "name": "ipython",
    "version": 3
   },
   "file_extension": ".py",
   "mimetype": "text/x-python",
   "name": "python",
   "nbconvert_exporter": "python",
   "pygments_lexer": "ipython3",
   "version": "3.8.5"
  }
 },
 "nbformat": 4,
 "nbformat_minor": 4
}
