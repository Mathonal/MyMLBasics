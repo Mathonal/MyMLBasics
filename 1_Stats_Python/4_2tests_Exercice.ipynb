{
 "cells": [
  {
   "cell_type": "code",
   "execution_count": 1,
   "metadata": {},
   "outputs": [],
   "source": [
    "import numpy as np\n",
    "import pandas as pd\n",
    "\n",
    "import matplotlib\n",
    "import matplotlib.pyplot as pp\n",
    "\n",
    "%matplotlib inline"
   ]
  },
  {
   "cell_type": "code",
   "execution_count": 2,
   "metadata": {},
   "outputs": [],
   "source": [
    "import scipy.stats\n",
    "from scipy.stats import ttest_1samp as ttest1"
   ]
  },
  {
   "cell_type": "code",
   "execution_count": 3,
   "metadata": {
    "scrolled": true
   },
   "outputs": [],
   "source": [
    "data = pd.read_csv('data/output/geometry.csv')\n"
   ]
  },
  {
   "cell_type": "code",
   "execution_count": 4,
   "metadata": {},
   "outputs": [
    {
     "data": {
      "text/plain": [
       "<matplotlib.collections.PathCollection at 0x7efbb9e538b0>"
      ]
     },
     "execution_count": 4,
     "metadata": {},
     "output_type": "execute_result"
    },
    {
     "data": {
      "image/png": "[encoded data removed]",
      "text/plain": [
       "<Figure size 720x720 with 1 Axes>"
      ]
     },
     "metadata": {
      "needs_background": "light"
     },
     "output_type": "display_data"
    }
   ],
   "source": [
    "pp.figure(figsize=(10,10))\n",
    "pp.scatter(data.X,data.Y,color='b')"
   ]
  },
  {
   "cell_type": "code",
   "execution_count": 5,
   "metadata": {},
   "outputs": [
    {
     "data": {
      "text/html": [
       "<div>\n",
       "<style scoped>\n",
       "    .dataframe tbody tr th:only-of-type {\n",
       "        vertical-align: middle;\n",
       "    }\n",
       "\n",
       "    .dataframe tbody tr th {\n",
       "        vertical-align: top;\n",
       "    }\n",
       "\n",
       "    .dataframe thead th {\n",
       "        text-align: right;\n",
       "    }\n",
       "</style>\n",
       "<table border=\"1\" class=\"dataframe\">\n",
       "  <thead>\n",
       "    <tr style=\"text-align: right;\">\n",
       "      <th></th>\n",
       "      <th>X</th>\n",
       "      <th>Y</th>\n",
       "      <th>Année</th>\n",
       "      <th>Polluant</th>\n",
       "      <th>Valeur</th>\n",
       "    </tr>\n",
       "  </thead>\n",
       "  <tbody>\n",
       "    <tr>\n",
       "      <th>0</th>\n",
       "      <td>2.290811</td>\n",
       "      <td>48.842157</td>\n",
       "      <td>2012</td>\n",
       "      <td>NO2</td>\n",
       "      <td>41.316912</td>\n",
       "    </tr>\n",
       "    <tr>\n",
       "      <th>1</th>\n",
       "      <td>2.405807</td>\n",
       "      <td>48.875666</td>\n",
       "      <td>2012</td>\n",
       "      <td>NO2</td>\n",
       "      <td>63.683878</td>\n",
       "    </tr>\n",
       "    <tr>\n",
       "      <th>2</th>\n",
       "      <td>2.332706</td>\n",
       "      <td>48.866140</td>\n",
       "      <td>2012</td>\n",
       "      <td>NO2</td>\n",
       "      <td>41.507336</td>\n",
       "    </tr>\n",
       "    <tr>\n",
       "      <th>3</th>\n",
       "      <td>2.347347</td>\n",
       "      <td>48.866889</td>\n",
       "      <td>2012</td>\n",
       "      <td>NO2</td>\n",
       "      <td>45.197342</td>\n",
       "    </tr>\n",
       "    <tr>\n",
       "      <th>4</th>\n",
       "      <td>2.364801</td>\n",
       "      <td>48.856970</td>\n",
       "      <td>2012</td>\n",
       "      <td>NO2</td>\n",
       "      <td>40.109546</td>\n",
       "    </tr>\n",
       "    <tr>\n",
       "      <th>...</th>\n",
       "      <td>...</td>\n",
       "      <td>...</td>\n",
       "      <td>...</td>\n",
       "      <td>...</td>\n",
       "      <td>...</td>\n",
       "    </tr>\n",
       "    <tr>\n",
       "      <th>62645</th>\n",
       "      <td>2.169196</td>\n",
       "      <td>48.843135</td>\n",
       "      <td>2016</td>\n",
       "      <td>NO2</td>\n",
       "      <td>21.981917</td>\n",
       "    </tr>\n",
       "    <tr>\n",
       "      <th>62646</th>\n",
       "      <td>2.168477</td>\n",
       "      <td>48.877698</td>\n",
       "      <td>2016</td>\n",
       "      <td>NO2</td>\n",
       "      <td>22.576241</td>\n",
       "    </tr>\n",
       "    <tr>\n",
       "      <th>62647</th>\n",
       "      <td>2.266671</td>\n",
       "      <td>48.806425</td>\n",
       "      <td>2016</td>\n",
       "      <td>NO2</td>\n",
       "      <td>29.487956</td>\n",
       "    </tr>\n",
       "    <tr>\n",
       "      <th>62648</th>\n",
       "      <td>2.262114</td>\n",
       "      <td>48.887357</td>\n",
       "      <td>2016</td>\n",
       "      <td>NO2</td>\n",
       "      <td>34.128443</td>\n",
       "    </tr>\n",
       "    <tr>\n",
       "      <th>62649</th>\n",
       "      <td>2.269774</td>\n",
       "      <td>48.885420</td>\n",
       "      <td>2016</td>\n",
       "      <td>NO2</td>\n",
       "      <td>34.289455</td>\n",
       "    </tr>\n",
       "  </tbody>\n",
       "</table>\n",
       "<p>62650 rows × 5 columns</p>\n",
       "</div>"
      ],
      "text/plain": [
       "              X          Y  Année Polluant     Valeur\n",
       "0      2.290811  48.842157   2012      NO2  41.316912\n",
       "1      2.405807  48.875666   2012      NO2  63.683878\n",
       "2      2.332706  48.866140   2012      NO2  41.507336\n",
       "3      2.347347  48.866889   2012      NO2  45.197342\n",
       "4      2.364801  48.856970   2012      NO2  40.109546\n",
       "...         ...        ...    ...      ...        ...\n",
       "62645  2.169196  48.843135   2016      NO2  21.981917\n",
       "62646  2.168477  48.877698   2016      NO2  22.576241\n",
       "62647  2.266671  48.806425   2016      NO2  29.487956\n",
       "62648  2.262114  48.887357   2016      NO2  34.128443\n",
       "62649  2.269774  48.885420   2016      NO2  34.289455\n",
       "\n",
       "[62650 rows x 5 columns]"
      ]
     },
     "execution_count": 5,
     "metadata": {},
     "output_type": "execute_result"
    }
   ],
   "source": [
    "# SEPARATE DATAFRAME INTO 2 DATAFRAME (keep only NO2)\n",
    "# FIRST DF sets the normal values sample\n",
    "# second DF sets the year we want to study \n",
    "NO2_12_16 = data.loc[(data.Polluant =='NO2')&(data.Année != 2017)]\n",
    "NO2_17 = data.loc[(data.Polluant =='NO2')&(data.Année == 2017)]\n",
    "NO2_12_16"
   ]
  },
  {
   "cell_type": "code",
   "execution_count": 6,
   "metadata": {},
   "outputs": [
    {
     "name": "stdout",
     "output_type": "stream",
     "text": [
      "Mean on all years : 28.586066072570738\n",
      "Mean on 2017 : 26.939377387987612\n"
     ]
    }
   ],
   "source": [
    "# H0  >>  mean2017 = meanbefore2017\n",
    "print('Mean on all years : {}'.format(np.mean(NO2_12_16.Valeur)))\n",
    "print('Mean on 2017 : {}'.format( np.mean(NO2_17.Valeur)))"
   ]
  },
  {
   "cell_type": "code",
   "execution_count": 7,
   "metadata": {},
   "outputs": [
    {
     "name": "stdout",
     "output_type": "stream",
     "text": [
      "Hypothese rejected ! Pvalue : \n",
      "3.905492251568749e-82\n"
     ]
    }
   ],
   "source": [
    "# CALCULATING P VALUE\n",
    "s,p_value = ttest1(NO2_17.Valeur, 28.58)\n",
    "\n",
    "if p_value > 0.05 : print('Hypothese accepted ! Pvalue : ')\n",
    "else : print('Hypothese rejected ! Pvalue : ')\n",
    "print(p_value)"
   ]
  }
 ],
 "metadata": {
  "kernelspec": {
   "display_name": "Python 3",
   "language": "python",
   "name": "python3"
  },
  "language_info": {
   "codemirror_mode": {
    "name": "ipython",
    "version": 3
   },
   "file_extension": ".py",
   "mimetype": "text/x-python",
   "name": "python",
   "nbconvert_exporter": "python",
   "pygments_lexer": "ipython3",
   "version": "3.8.5"
  },
  "toc": {
   "base_numbering": 1,
   "nav_menu": {},
   "number_sections": true,
   "sideBar": true,
   "skip_h1_title": false,
   "title_cell": "Table of Contents",
   "title_sidebar": "Contents",
   "toc_cell": false,
   "toc_position": {},
   "toc_section_display": true,
   "toc_window_display": false
  }
 },
 "nbformat": 4,
 "nbformat_minor": 2
}
