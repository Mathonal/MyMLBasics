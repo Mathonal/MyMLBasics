{
 "cells": [
  {
   "cell_type": "code",
   "execution_count": 1,
   "metadata": {},
   "outputs": [],
   "source": [
    "#Exercice à rendre: Regression linéaire multiple\n",
    "import numpy as np\n",
    "import pandas as pd\n",
    "import matplotlib.pyplot as plt\n",
    "from sklearn.model_selection import train_test_split\n",
    "from sklearn.preprocessing import StandardScaler\n",
    "import statsmodels.api as sm\n",
    "from sklearn.metrics import mean_squared_error\n",
    "from math import sqrt"
   ]
  },
  {
   "cell_type": "code",
   "execution_count": 2,
   "metadata": {},
   "outputs": [],
   "source": [
    "#. Une séparation en training /testing set"
   ]
  },
  {
   "cell_type": "code",
   "execution_count": 4,
   "metadata": {},
   "outputs": [],
   "source": [
    "# Chargement des données\n",
    "house_data_raw = pd.read_csv('house_data.csv')\n",
    "house_data=house_data_raw[house_data_raw['arrondissement']>=1]\n",
    "#house_data\n"
   ]
  },
  {
   "cell_type": "code",
   "execution_count": 5,
   "metadata": {},
   "outputs": [],
   "source": [
    "#APPLIQUER L'ALGORITHME D'APPRENTISSAGE DU MODELE\n",
    "\n",
    "# On décompose d'abord le dataset et on le transforme en matrices pour pouvoir effectuer notre calcul (.T pour transposer)\n",
    "x = np.matrix([np.ones(house_data.shape[0]), house_data['surface'], house_data['arrondissement']]).T\n",
    "y = np.matrix(house_data['price']).T"
   ]
  },
  {
   "cell_type": "code",
   "execution_count": 6,
   "metadata": {},
   "outputs": [
    {
     "name": "stderr",
     "output_type": "stream",
     "text": [
      "C:\\ProgramData\\Anaconda3\\lib\\site-packages\\sklearn\\model_selection\\_split.py:2026: FutureWarning: From version 0.21, test_size will always complement train_size unless both are specified.\n",
      "  FutureWarning)\n"
     ]
    }
   ],
   "source": [
    "#Echantillonnage: Training set / Testing set\n",
    "#Séparation en training test\n",
    "xtrain, xtest, ytrain, ytest = train_test_split(x, y, train_size=0.8)"
   ]
  },
  {
   "cell_type": "code",
   "execution_count": 7,
   "metadata": {},
   "outputs": [
    {
     "data": {
      "text/plain": [
       "matrix([[ 14.98442532],\n",
       "        [ 38.22630518],\n",
       "        [-49.76883321]])"
      ]
     },
     "execution_count": 7,
     "metadata": {},
     "output_type": "execute_result"
    }
   ],
   "source": [
    "#Estimation des parametres\n",
    "theta = np.linalg.inv(xtrain.T.dot(xtrain)).dot(xtrain.T).dot(ytrain)\n",
    "theta"
   ]
  },
  {
   "cell_type": "code",
   "execution_count": 8,
   "metadata": {},
   "outputs": [
    {
     "data": {
      "text/plain": [
       "1677.4555180888647"
      ]
     },
     "execution_count": 8,
     "metadata": {},
     "output_type": "execute_result"
    }
   ],
   "source": [
    "#Exemple: le montant d'un loyer de 50 mcarré au 5ieme arrondissement:\n",
    "Loyer=theta.item(0)+theta.item(1)*50+theta.item(2)*5\n",
    "Loyer"
   ]
  },
  {
   "cell_type": "code",
   "execution_count": 9,
   "metadata": {},
   "outputs": [
    {
     "data": {
      "text/plain": [
       "540.6531069740837"
      ]
     },
     "execution_count": 9,
     "metadata": {},
     "output_type": "execute_result"
    }
   ],
   "source": [
    "#Mesure de la performance du model\n",
    "#def predict_prix(surface, arrondissement):\n",
    "# return 9.8554783 +38.22211001*surfac-51.49515102*arrondissement\n",
    "y_pred=np.dot(xtest,theta)\n",
    "#y_pred\n",
    "Error=sqrt(mean_squared_error(ytest, y_pred))\n",
    "Error"
   ]
  },
  {
   "cell_type": "code",
   "execution_count": 10,
   "metadata": {},
   "outputs": [],
   "source": [
    "#. 2 propositions d'amélioration du modèle qui obtiennent de meilleures performances \n",
    "# que la \"baseline\" (la régression linéaire avec une seule feature)\n",
    "#Comment: \n",
    "    #Choisir les données d'entrainnement qui minimise le risque empirique\n",
    "    #Norùaliser les regresseurs\n"
   ]
  },
  {
   "cell_type": "code",
   "execution_count": 11,
   "metadata": {},
   "outputs": [
    {
     "name": "stderr",
     "output_type": "stream",
     "text": [
      "C:\\ProgramData\\Anaconda3\\lib\\site-packages\\sklearn\\model_selection\\_split.py:2026: FutureWarning: From version 0.21, test_size will always complement train_size unless both are specified.\n",
      "  FutureWarning)\n"
     ]
    },
    {
     "data": {
      "image/png": "[encoded data removed]",
      "text/plain": [
       "<Figure size 432x288 with 1 Axes>"
      ]
     },
     "metadata": {},
     "output_type": "display_data"
    }
   ],
   "source": [
    "errors=[]\n",
    "\n",
    "for i in range(1,5000):\n",
    "    xtrain, xtest, ytrain, ytest = train_test_split(x, y, train_size=0.8)\n",
    "    theta = np.linalg.inv(xtrain.T.dot(xtrain)).dot(xtrain.T).dot(ytrain)\n",
    "    y_pred=np.dot(xtest,theta)\n",
    "    errors.append(sqrt(mean_squared_error(ytest, y_pred)))\n",
    "plt.plot(range(1,5000), errors, 'o-')\n",
    "plt.show()"
   ]
  },
  {
   "cell_type": "code",
   "execution_count": null,
   "metadata": {
    "scrolled": true
   },
   "outputs": [],
   "source": [
    "#. Une sélection d'un modèle final à partir des performances\n",
    "# Il faut selectionner le parametre theta du modele qui minimise l'erreur (theta,errors_min) ."
   ]
  },
  {
   "cell_type": "code",
   "execution_count": null,
   "metadata": {},
   "outputs": [],
   "source": [
    "#Bonjour,\n",
    "#Merci pour votre cours.\n",
    "#Pourrions nous avoir la correctionde l'exercice svp. \n",
    "#En vous remerciant par avance."
   ]
  }
 ],
 "metadata": {
  "kernelspec": {
   "display_name": "Python 3",
   "language": "python",
   "name": "python3"
  },
  "language_info": {
   "codemirror_mode": {
    "name": "ipython",
    "version": 3
   },
   "file_extension": ".py",
   "mimetype": "text/x-python",
   "name": "python",
   "nbconvert_exporter": "python",
   "pygments_lexer": "ipython3",
   "version": "3.8.5"
  }
 },
 "nbformat": 4,
 "nbformat_minor": 2
}
