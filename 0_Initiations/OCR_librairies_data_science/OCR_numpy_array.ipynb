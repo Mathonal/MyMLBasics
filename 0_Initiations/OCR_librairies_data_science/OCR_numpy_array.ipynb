{
 "cells": [
  {
   "cell_type": "code",
   "execution_count": 2,
   "metadata": {},
   "outputs": [],
   "source": [
    "import numpy as np\n"
   ]
  },
  {
   "cell_type": "code",
   "execution_count": 3,
   "metadata": {},
   "outputs": [
    {
     "data": {
      "text/plain": [
       "array([[2, 3, 4],\n",
       "       [4, 5, 6],\n",
       "       [6, 7, 8]])"
      ]
     },
     "execution_count": 3,
     "metadata": {},
     "output_type": "execute_result"
    }
   ],
   "source": [
    "# Tableau d'entiers:\n",
    "np.array([1, 4, 2, 5, 3])\n",
    "\n",
    "# Une liste de listes est transformée en un tableau multi-dimensionnel\n",
    "np.array([range(i, i + 3) for i in [2, 4, 6]])"
   ]
  },
  {
   "cell_type": "code",
   "execution_count": 5,
   "metadata": {},
   "outputs": [
    {
     "data": {
      "text/plain": [
       "array([[1., 0., 0.],\n",
       "       [0., 1., 0.],\n",
       "       [0., 0., 1.]])"
      ]
     },
     "execution_count": 5,
     "metadata": {},
     "output_type": "execute_result"
    }
   ],
   "source": [
    "# Un tableau de longueur 10, rempli d'entiers qui valent 0\n",
    "np.zeros(10, dtype=int)\n",
    "\n",
    "# Un tableau de taille 3x5 rempli de nombres à virgule flottante de valeur 1\n",
    "np.ones((3, 5), dtype=float)\n",
    "\n",
    "# Un tableau 3x5 rempli de 3,14\n",
    "np.full((3, 5), 3.14)\n",
    "\n",
    "# Un tableau rempli d'une séquence linéaire\n",
    "# commençant à 0 et qui se termine à 20, avec un pas de 2\n",
    "np.arange(0, 20, 2)\n",
    "\n",
    "# Un tableau de 5 valeurs, espacées uniformément entre 0 et 1\n",
    "np.linspace(0, 1, 5)\n",
    "\n",
    "# Celle-ci vous la conaissez déjà! Essayez aussi \"randint\" et \"normal\"\n",
    "np.random.random((3, 3))\n",
    "\n",
    "# La matrice identité de taille 3x3 \n",
    "# (matrice identité : https://fr.wikipedia.org/wiki/Matrice_identit%C3%A9)\n",
    "np.eye(3)"
   ]
  },
  {
   "cell_type": "code",
   "execution_count": 6,
   "metadata": {},
   "outputs": [
    {
     "name": "stdout",
     "output_type": "stream",
     "text": [
      "[5 0 3 3 7 9]\n",
      "nombre de dimensions de x1:  1\n",
      "forme de x1:  (6,)\n",
      "taille de x1:  6\n",
      "type de x1:  int32\n"
     ]
    }
   ],
   "source": [
    "np.random.seed(0)\n",
    "x1 = np.random.randint(10, size=6)  # Tableau de dimension 1\n",
    "print(x1)\n",
    "print(\"nombre de dimensions de x1: \", x1.ndim)\n",
    "print(\"forme de x1: \", x1.shape)\n",
    "print(\"taille de x1: \", x1.size)\n",
    "print(\"type de x1: \", x1.dtype)"
   ]
  },
  {
   "cell_type": "code",
   "execution_count": 14,
   "metadata": {},
   "outputs": [
    {
     "name": "stdout",
     "output_type": "stream",
     "text": [
      "[5 0 3 3 7 9]\n",
      "5\n",
      "9\n",
      "5\n",
      "[   5 1000    3    3    7    9]\n",
      "[5 3 3 3 7 9]\n"
     ]
    }
   ],
   "source": [
    "print(x1)\n",
    "\n",
    "# Pour accéder au premier élément\n",
    "print(x1[0])\n",
    "\n",
    "# Pour accéder au dernier élément\n",
    "print(x1[-1])\n",
    "\n",
    "# On peut aussi modifier les valeur\n",
    "x1[1] = \"1000\"\n",
    "print(x1)\n",
    "\n",
    "# Attention au type (ici la valeur 3.14 est tronquée en rentrant dans le tableau)\n",
    "x1[1] = 3.14\n",
    "print(x1)"
   ]
  },
  {
   "cell_type": "code",
   "execution_count": 15,
   "metadata": {},
   "outputs": [
    {
     "name": "stdout",
     "output_type": "stream",
     "text": [
      "[5 3]\n",
      "[3 3 7 9]\n",
      "[5 3 7]\n"
     ]
    }
   ],
   "source": [
    "# x[début:fin:pas]\n",
    "print(x1[:2])  # Les cinq premiers éléments\n",
    "print(x1[2:])  # Les éléments à partir de l'index 5\n",
    "print(x1[::2])  # Un élément sur deux"
   ]
  },
  {
   "cell_type": "code",
   "execution_count": 17,
   "metadata": {},
   "outputs": [
    {
     "name": "stdout",
     "output_type": "stream",
     "text": [
      "[[2 3 8 1]\n",
      " [3 3 3 7]\n",
      " [0 1 9 9]]\n",
      "3\n"
     ]
    },
    {
     "data": {
      "text/plain": [
       "array([2, 3, 8, 1])"
      ]
     },
     "execution_count": 17,
     "metadata": {},
     "output_type": "execute_result"
    }
   ],
   "source": [
    "x2 = np.random.randint(10, size=(3, 4))  # Tableau de dimension 2\n",
    "print(x2)\n",
    "print(x2[0,1])\n",
    "x2[0,:] #premiere ligne"
   ]
  },
  {
   "cell_type": "code",
   "execution_count": 18,
   "metadata": {},
   "outputs": [
    {
     "data": {
      "text/plain": [
       "array([1, 2, 3, 3, 2, 1])"
      ]
     },
     "execution_count": 18,
     "metadata": {},
     "output_type": "execute_result"
    }
   ],
   "source": [
    "#concatenation\n",
    "x = np.array([1, 2, 3])\n",
    "y = np.array([3, 2, 1])\n",
    "np.concatenate([x, y])\n"
   ]
  },
  {
   "cell_type": "code",
   "execution_count": 19,
   "metadata": {},
   "outputs": [
    {
     "data": {
      "text/plain": [
       "array([[1, 2, 3],\n",
       "       [9, 8, 7],\n",
       "       [6, 5, 4]])"
      ]
     },
     "execution_count": 19,
     "metadata": {},
     "output_type": "execute_result"
    }
   ],
   "source": [
    "#concatenation verticale : vStack ou horizontale hstack\n",
    "x = np.array([1, 2, 3])\n",
    "grid = np.array([[9, 8, 7],\n",
    "                 [6, 5, 4]])\n",
    "\n",
    "np.vstack([x, grid])"
   ]
  },
  {
   "cell_type": "code",
   "execution_count": 20,
   "metadata": {},
   "outputs": [
    {
     "name": "stdout",
     "output_type": "stream",
     "text": [
      "x     = [0 1 2 3]\n",
      "x + 5 = [5 6 7 8]\n",
      "x - 5 = [-5 -4 -3 -2]\n",
      "x * 2 = [0 2 4 6]\n",
      "x / 2 = [0.  0.5 1.  1.5]\n",
      "x // 2 = [0 0 1 1]\n"
     ]
    }
   ],
   "source": [
    "# Il y a tout d'abord des opération mathématiques simples\n",
    "x = np.arange(4)\n",
    "print(\"x     =\", x)\n",
    "print(\"x + 5 =\", x + 5)\n",
    "print(\"x - 5 =\", x - 5)\n",
    "print(\"x * 2 =\", x * 2)\n",
    "print(\"x / 2 =\", x / 2)\n",
    "print(\"x // 2 =\", x // 2)  # Division avec arronid"
   ]
  },
  {
   "cell_type": "code",
   "execution_count": 21,
   "metadata": {},
   "outputs": [
    {
     "name": "stdout",
     "output_type": "stream",
     "text": [
      "La valeur absolue:  [2 1 1 2]\n",
      "Exponentielle:  [0.13533528 0.36787944 2.71828183 7.3890561 ]\n",
      "Logarithme:  [0.69314718 0.         0.         0.69314718]\n"
     ]
    }
   ],
   "source": [
    "x = [-2, -1, 1, 2]\n",
    "print(\"La valeur absolue: \", np.abs(x))\n",
    "print(\"Exponentielle: \", np.exp(x))\n",
    "print(\"Logarithme: \", np.log(np.abs(x)))"
   ]
  },
  {
   "cell_type": "code",
   "execution_count": 24,
   "metadata": {},
   "outputs": [
    {
     "name": "stdout",
     "output_type": "stream",
     "text": [
      "[[0.61209572 0.616934   0.94374808]\n",
      " [0.6818203  0.3595079  0.43703195]\n",
      " [0.6976312  0.06022547 0.66676672]]\n"
     ]
    },
    {
     "data": {
      "text/plain": [
       "array([[ True,  True,  True],\n",
       "       [ True, False, False],\n",
       "       [ True, False,  True]])"
      ]
     },
     "execution_count": 24,
     "metadata": {},
     "output_type": "execute_result"
    }
   ],
   "source": [
    "#operation booleene\n",
    "x = np.random.rand(3,3)\n",
    "print(x)\n",
    "x > 0.5"
   ]
  },
  {
   "cell_type": "code",
   "execution_count": 25,
   "metadata": {},
   "outputs": [
    {
     "data": {
      "text/plain": [
       "(array([0, 0, 0, 1, 2, 2], dtype=int64),\n",
       " array([0, 1, 2, 0, 0, 2], dtype=int64))"
      ]
     },
     "execution_count": 25,
     "metadata": {},
     "output_type": "execute_result"
    }
   ],
   "source": [
    "#renvoit index des endroit ou condition verifiée :\n",
    "# liste1 index ligne\n",
    "# liste2 index colonne\n",
    "np.where(x > 0.5)"
   ]
  },
  {
   "cell_type": "code",
   "execution_count": 26,
   "metadata": {},
   "outputs": [
    {
     "name": "stdout",
     "output_type": "stream",
     "text": [
      "[[0.67063787 0.21038256 0.1289263  0.31542835]\n",
      " [0.36371077 0.57019677 0.43860151 0.98837384]\n",
      " [0.10204481 0.20887676 0.16130952 0.65310833]]\n",
      "La somme de tous les éléments de M:  4.811597382346344\n",
      "Les sommes des colonnes de M:  [1.13639345 0.98945609 0.72883733 1.95691051]\n"
     ]
    }
   ],
   "source": [
    "M = np.random.random((3, 4))\n",
    "print(M)\n",
    "# Notez la syntax variable.fonction au lieu de \n",
    "# np.fonction(variable). Les deux sont possibles si\n",
    "# la variable est un tableau Numpy.\n",
    "print(\"La somme de tous les éléments de M: \", M.sum())\n",
    "print(\"Les sommes des colonnes de M: \", M.sum(axis=0))"
   ]
  },
  {
   "cell_type": "code",
   "execution_count": 27,
   "metadata": {},
   "outputs": [
    {
     "data": {
      "text/plain": [
       "array([[0, 1, 2],\n",
       "       [1, 2, 3],\n",
       "       [2, 3, 4]])"
      ]
     },
     "execution_count": 27,
     "metadata": {},
     "output_type": "execute_result"
    }
   ],
   "source": [
    "a = np.arange(3)\n",
    "# La ligne suivante crée une matrice de taille 3x1\n",
    "# avec trois lignes et une colonne.\n",
    "b = np.arange(3)[:, np.newaxis]\n",
    "a+b"
   ]
  },
  {
   "cell_type": "code",
   "execution_count": null,
   "metadata": {},
   "outputs": [],
   "source": []
  }
 ],
 "metadata": {
  "kernelspec": {
   "display_name": "Python 3",
   "language": "python",
   "name": "python3"
  },
  "language_info": {
   "codemirror_mode": {
    "name": "ipython",
    "version": 3
   },
   "file_extension": ".py",
   "mimetype": "text/x-python",
   "name": "python",
   "nbconvert_exporter": "python",
   "pygments_lexer": "ipython3",
   "version": "3.8.5"
  }
 },
 "nbformat": 4,
 "nbformat_minor": 2
}
