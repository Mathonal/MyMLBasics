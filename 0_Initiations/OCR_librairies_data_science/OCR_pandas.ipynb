{
 "cells": [
  {
   "cell_type": "code",
   "execution_count": 1,
   "metadata": {},
   "outputs": [],
   "source": [
    "import numpy as np\n",
    "import pandas as pd\n",
    "\n",
    "#https://pandas.pydata.org/pandas-docs/stable/\n",
    "#https://jakevdp.github.io/PythonDataScienceHandbook/03.00-introduction-to-pandas.html"
   ]
  },
  {
   "cell_type": "code",
   "execution_count": 2,
   "metadata": {},
   "outputs": [
    {
     "name": "stdout",
     "output_type": "stream",
     "text": [
      "data ressemble à un tableau Numpy:  0    0.25\n",
      "1    0.50\n",
      "2    0.75\n",
      "3    1.00\n",
      "dtype: float64\n",
      "data ressemble à un dict en Python:  a    0.25\n",
      "b    0.50\n",
      "c    0.75\n",
      "d    1.00\n",
      "dtype: float64\n",
      "0.5\n"
     ]
    }
   ],
   "source": [
    "# On peut créer une Series à partir d'une list\n",
    "data = pd.Series([0.25, 0.5, 0.75, 1.0])\n",
    "print(\"data ressemble à un tableau Numpy: \", data)\n",
    "\n",
    "# On peut spécifier des indices à la main\n",
    "data = pd.Series([0.25, 0.5, 0.75, 1.0],\n",
    "         index=['a', 'b', 'c', 'd'])\n",
    "print(\"data ressemble à un dict en Python: \", data)\n",
    "print(data['b'])"
   ]
  },
  {
   "cell_type": "code",
   "execution_count": 3,
   "metadata": {},
   "outputs": [
    {
     "name": "stdout",
     "output_type": "stream",
     "text": [
      "California    38332521\n",
      "Texas         26448193\n",
      "New York      19651127\n",
      "Florida       19552860\n",
      "Illinois      12882135\n",
      "dtype: int64\n",
      "California    38332521\n",
      "Texas         26448193\n",
      "New York      19651127\n",
      "Florida       19552860\n",
      "dtype: int64\n"
     ]
    }
   ],
   "source": [
    "# On peut même créer une Serie directement à partir d'une dict\n",
    "population_dict = {'California': 38332521,\n",
    "                   'Texas': 26448193,\n",
    "                   'New York': 19651127,\n",
    "                   'Florida': 19552860,\n",
    "                   'Illinois': 12882135}\n",
    "area_dict = {'California': 423967, \n",
    "             'Texas': 695662,\n",
    "             'New York': 141297, \n",
    "             'Florida': 170312,\n",
    "             'Illinois': 149995}\n",
    "population = pd.Series(population_dict)\n",
    "area = pd.Series(area_dict)\n",
    "print(population)\n",
    "# Que pensez vous de cette ligne?\n",
    "print(population['California':'Florida'])"
   ]
  },
  {
   "cell_type": "code",
   "execution_count": 6,
   "metadata": {},
   "outputs": [
    {
     "name": "stdout",
     "output_type": "stream",
     "text": [
      "            population\n",
      "California    38332521\n",
      "Texas         26448193\n",
      "New York      19651127\n",
      "Florida       19552860\n",
      "Illinois      12882135\n",
      "            population    area\n",
      "California    38332521  423967\n",
      "Texas         26448193  695662\n",
      "New York      19651127  141297\n",
      "Florida       19552860  170312\n",
      "Illinois      12882135  149995\n",
      "        foo       bar\n",
      "a  0.369020  0.389715\n",
      "b  0.415135  0.685029\n",
      "c  0.190008  0.215343\n"
     ]
    },
    {
     "data": {
      "text/html": [
       "<div>\n",
       "<style scoped>\n",
       "    .dataframe tbody tr th:only-of-type {\n",
       "        vertical-align: middle;\n",
       "    }\n",
       "\n",
       "    .dataframe tbody tr th {\n",
       "        vertical-align: top;\n",
       "    }\n",
       "\n",
       "    .dataframe thead th {\n",
       "        text-align: right;\n",
       "    }\n",
       "</style>\n",
       "<table border=\"1\" class=\"dataframe\">\n",
       "  <thead>\n",
       "    <tr style=\"text-align: right;\">\n",
       "      <th></th>\n",
       "      <th>A</th>\n",
       "      <th>B</th>\n",
       "      <th>C</th>\n",
       "    </tr>\n",
       "  </thead>\n",
       "  <tbody>\n",
       "    <tr>\n",
       "      <th>0</th>\n",
       "      <td>A0</td>\n",
       "      <td>B0</td>\n",
       "      <td>C0</td>\n",
       "    </tr>\n",
       "    <tr>\n",
       "      <th>1</th>\n",
       "      <td>A1</td>\n",
       "      <td>B1</td>\n",
       "      <td>C1</td>\n",
       "    </tr>\n",
       "    <tr>\n",
       "      <th>2</th>\n",
       "      <td>A2</td>\n",
       "      <td>B2</td>\n",
       "      <td>C2</td>\n",
       "    </tr>\n",
       "  </tbody>\n",
       "</table>\n",
       "</div>"
      ],
      "text/plain": [
       "    A   B   C\n",
       "0  A0  B0  C0\n",
       "1  A1  B1  C1\n",
       "2  A2  B2  C2"
      ]
     },
     "execution_count": 6,
     "metadata": {},
     "output_type": "execute_result"
    }
   ],
   "source": [
    "#CREATION DE DATAFRAME\n",
    "# A partir d'une Series\n",
    "df = pd.DataFrame(population, columns=['population'])\n",
    "print(df)\n",
    "# A partir de plusieurs Series\n",
    "df = pd.DataFrame({'population': population,\n",
    "              'area': area})\n",
    "print(df)\n",
    "# A partir d'un tableau Numpy de dimension 2\n",
    "df = pd.DataFrame(np.random.rand(3, 2),\n",
    "             columns=['foo', 'bar'],\n",
    "             index=['a', 'b', 'c'])\n",
    "print(df)\n",
    "\n",
    "# Une fonction pour générer facilement des DataFrame. \n",
    "# Elle nous sera utile dans la suite de ce chapitre.\n",
    "def make_df(cols, ind):\n",
    "    \"\"\"Crée rapidement des DataFrame\"\"\"\n",
    "    data = {c: [str(c) + str(i) for i in ind]\n",
    "            for c in cols}\n",
    "    return pd.DataFrame(data, ind)\n",
    "\n",
    "# exemple\n",
    "make_df('ABC', range(3))"
   ]
  },
  {
   "cell_type": "code",
   "execution_count": 7,
   "metadata": {},
   "outputs": [
    {
     "name": "stdout",
     "output_type": "stream",
     "text": [
      "a    0.25\n",
      "b    0.50\n",
      "c    0.75\n",
      "d    1.00\n",
      "dtype: float64\n",
      "0.5\n",
      "0.5\n"
     ]
    }
   ],
   "source": [
    "data = pd.Series([0.25, 0.5, 0.75, 1.0],\n",
    "                 index=['a', 'b', 'c', 'd'])\n",
    "\n",
    "print(data)\n",
    "\n",
    "# On peut désigner un élément d'une Series par son index\n",
    "print(data.loc['b'])\n",
    "\n",
    "# Ou bien par sa position\n",
    "print(data.iloc[1])\n",
    "\n",
    "#designation d'element sur les dataframe identique : loc et iloc\n",
    "data = pd.DataFrame({'area':area, 'pop':population})\n",
    "print(data)\n",
    "\n",
    "data.loc[:'Illinois', :'pop']"
   ]
  },
  {
   "cell_type": "code",
   "execution_count": 11,
   "metadata": {},
   "outputs": [
    {
     "data": {
      "text/html": [
       "<div>\n",
       "<style scoped>\n",
       "    .dataframe tbody tr th:only-of-type {\n",
       "        vertical-align: middle;\n",
       "    }\n",
       "\n",
       "    .dataframe tbody tr th {\n",
       "        vertical-align: top;\n",
       "    }\n",
       "\n",
       "    .dataframe thead th {\n",
       "        text-align: right;\n",
       "    }\n",
       "</style>\n",
       "<table border=\"1\" class=\"dataframe\">\n",
       "  <thead>\n",
       "    <tr style=\"text-align: right;\">\n",
       "      <th></th>\n",
       "      <th>A</th>\n",
       "      <th>B</th>\n",
       "    </tr>\n",
       "  </thead>\n",
       "  <tbody>\n",
       "    <tr>\n",
       "      <th>1</th>\n",
       "      <td>A1</td>\n",
       "      <td>B1</td>\n",
       "    </tr>\n",
       "    <tr>\n",
       "      <th>2</th>\n",
       "      <td>A2</td>\n",
       "      <td>B2</td>\n",
       "    </tr>\n",
       "    <tr>\n",
       "      <th>3</th>\n",
       "      <td>A3</td>\n",
       "      <td>B3</td>\n",
       "    </tr>\n",
       "    <tr>\n",
       "      <th>4</th>\n",
       "      <td>A4</td>\n",
       "      <td>B4</td>\n",
       "    </tr>\n",
       "  </tbody>\n",
       "</table>\n",
       "</div>"
      ],
      "text/plain": [
       "    A   B\n",
       "1  A1  B1\n",
       "2  A2  B2\n",
       "3  A3  B3\n",
       "4  A4  B4"
      ]
     },
     "execution_count": 11,
     "metadata": {},
     "output_type": "execute_result"
    }
   ],
   "source": [
    "#UNION DE SERIES /DATAFRAME\n",
    "#https://pandas.pydata.org/pandas-docs/stable/merging.html\n",
    "\n",
    "ser1 = pd.Series(['A', 'B', 'C'], index=[1, 2, 3])\n",
    "ser2 = pd.Series(['D', 'E', 'F'], index=[4, 5, 6])\n",
    "pd.concat([ser1, ser2])\n",
    "\n",
    "df1 = make_df('AB', [1, 2])\n",
    "df2 = make_df('AB', [3, 4])\n",
    "pd.concat([df1, df2])"
   ]
  },
  {
   "cell_type": "code",
   "execution_count": 13,
   "metadata": {},
   "outputs": [
    {
     "name": "stdout",
     "output_type": "stream",
     "text": [
      "    A   B\n",
      "0  A0  B0\n",
      "1  A1  B1\n",
      "0  A2  B2\n",
      "1  A3  B3\n",
      "      A   B\n",
      "x 0  A0  B0\n",
      "  1  A1  B1\n",
      "y 0  A2  B2\n",
      "  1  A3  B3\n"
     ]
    }
   ],
   "source": [
    "x = make_df('AB', [0, 1])\n",
    "y = make_df('AB', [2, 3])\n",
    "y.index = x.index  # Rend les index identiques pour test\n",
    "# Nous avons alors des index dupliqués lors de la concatenation \n",
    "print(pd.concat([x, y]))\n",
    "\n",
    "# Nous pouvons spécifier des index hiérarchiques\n",
    "hdf = pd.concat([x, y], keys=['x', 'y'])\n",
    "print(hdf)\n",
    "\n",
    "#pour acceder a des element dans un objet hyerarchisé\n",
    "# fournir la/les clés ainsi que l'index dans la recherche LOC\n",
    "hdf.loc[('x', 1),]"
   ]
  },
  {
   "cell_type": "code",
   "execution_count": 17,
   "metadata": {},
   "outputs": [
    {
     "name": "stdout",
     "output_type": "stream",
     "text": [
      "  employee   department  date\n",
      "0      Bob   Accounting  2008\n",
      "1     Jake  Engineering  2012\n",
      "2     Lisa  Engineering  2004\n",
      "3      Sue           HR  2014\n"
     ]
    }
   ],
   "source": [
    "# JOINTURE DE DONNEES\n",
    "df1 = pd.DataFrame({'employee': ['Bob', 'Jake', 'Lisa', 'Sue'],\n",
    "                    'department': ['Accounting', 'Engineering', 'Engineering', 'HR']})\n",
    "df2 = pd.DataFrame({'employee': ['Lisa', 'Bob', 'Jake', 'Sue'],\n",
    "                    'date': [2004, 2008, 2012, 2014]})\n",
    "df3 = pd.merge(df1, df2)\n",
    "print(df3)\n",
    "\n",
    "# en cas de NOM d'index différent il faut spécifier les colonnes a joindre\n",
    "# df3 = pd.merge(df1, df2, left_on= \"employee\", right_on= \"emp_name\")"
   ]
  },
  {
   "cell_type": "code",
   "execution_count": 21,
   "metadata": {},
   "outputs": [
    {
     "name": "stdout",
     "output_type": "stream",
     "text": [
      "1to1 :\n",
      "  employee   department  date\n",
      "0      Bob   Accounting  2008\n",
      "1     Jake  Engineering  2012\n",
      "2     Lisa  Engineering  2004\n",
      "3      Sue           HR  2014\n",
      "1toMany :\n",
      "  employee   department  date supervisor\n",
      "0      Bob   Accounting  2008      Carly\n",
      "1     Jake  Engineering  2012      Guido\n",
      "2     Lisa  Engineering  2004      Guido\n",
      "3      Sue           HR  2014      Steve\n",
      "ManytoMany :\n",
      "  employee   department    competence\n",
      "0      Bob   Accounting          math\n",
      "1      Bob   Accounting  spreadsheets\n",
      "2     Jake  Engineering        coding\n",
      "3     Jake  Engineering         linux\n",
      "4     Lisa  Engineering        coding\n",
      "5     Lisa  Engineering         linux\n",
      "6      Sue           HR  spreadsheets\n",
      "7      Sue           HR  organization\n"
     ]
    }
   ],
   "source": [
    "# CARDINALITE DE JOINTURE : UN A UN\n",
    "df1 = pd.DataFrame({'employee': ['Bob', 'Jake', 'Lisa', 'Sue'],\n",
    "                    'department': ['Accounting', 'Engineering', 'Engineering', 'HR']})\n",
    "df2 = pd.DataFrame({'employee': ['Lisa', 'Bob', 'Jake', 'Sue'],\n",
    "                    'date': [2004, 2008, 2012, 2014]})\n",
    "\n",
    "df3 = pd.merge(df1, df2)\n",
    "print(\"1to1 :\")\n",
    "print(df3)\n",
    "# CARDINALITE UN A PLUSIEURS \n",
    "# (1 chef par employé, mais plusieurs employés par chef)\n",
    "df4 = pd.DataFrame({'department': ['Accounting', 'Engineering', 'HR'],\n",
    "                    'supervisor': ['Carly', 'Guido', 'Steve']})\n",
    "print(\"1toMany :\")\n",
    "print(pd.merge(df3, df4))\n",
    "\n",
    "# CARDINALITE PLUSIEURS A PLUSIEURS\n",
    "# (competences multiples necessaires par employes et competences partagées par employés)\n",
    "\n",
    "df5 = pd.DataFrame({'department': ['Accounting', 'Accounting',\n",
    "                              'Engineering', 'Engineering', 'HR', 'HR'],\n",
    "                    'competence': ['math', 'spreadsheets', 'coding', 'linux',\n",
    "                               'spreadsheets', 'organization']})\n",
    "print(\"ManytoMany :\")\n",
    "print(pd.merge(df1, df5))"
   ]
  },
  {
   "cell_type": "code",
   "execution_count": 24,
   "metadata": {},
   "outputs": [
    {
     "data": {
      "text/html": [
       "<div>\n",
       "<style scoped>\n",
       "    .dataframe tbody tr th:only-of-type {\n",
       "        vertical-align: middle;\n",
       "    }\n",
       "\n",
       "    .dataframe tbody tr th {\n",
       "        vertical-align: top;\n",
       "    }\n",
       "\n",
       "    .dataframe thead th {\n",
       "        text-align: right;\n",
       "    }\n",
       "</style>\n",
       "<table border=\"1\" class=\"dataframe\">\n",
       "  <thead>\n",
       "    <tr style=\"text-align: right;\">\n",
       "      <th></th>\n",
       "      <th>employee</th>\n",
       "      <th>department</th>\n",
       "      <th>date</th>\n",
       "    </tr>\n",
       "  </thead>\n",
       "  <tbody>\n",
       "    <tr>\n",
       "      <th>0</th>\n",
       "      <td>Bob</td>\n",
       "      <td>Accounting</td>\n",
       "      <td>2008.0</td>\n",
       "    </tr>\n",
       "    <tr>\n",
       "      <th>1</th>\n",
       "      <td>Jake</td>\n",
       "      <td>Engineering</td>\n",
       "      <td>2012.0</td>\n",
       "    </tr>\n",
       "    <tr>\n",
       "      <th>2</th>\n",
       "      <td>Lisa</td>\n",
       "      <td>Engineering</td>\n",
       "      <td>2004.0</td>\n",
       "    </tr>\n",
       "    <tr>\n",
       "      <th>3</th>\n",
       "      <td>Sue</td>\n",
       "      <td>HR</td>\n",
       "      <td>2014.0</td>\n",
       "    </tr>\n",
       "    <tr>\n",
       "      <th>4</th>\n",
       "      <td>Lea</td>\n",
       "      <td>Engineering</td>\n",
       "      <td>NaN</td>\n",
       "    </tr>\n",
       "  </tbody>\n",
       "</table>\n",
       "</div>"
      ],
      "text/plain": [
       "  employee   department    date\n",
       "0      Bob   Accounting  2008.0\n",
       "1     Jake  Engineering  2012.0\n",
       "2     Lisa  Engineering  2004.0\n",
       "3      Sue           HR  2014.0\n",
       "4      Lea  Engineering     NaN"
      ]
     },
     "execution_count": 24,
     "metadata": {},
     "output_type": "execute_result"
    }
   ],
   "source": [
    "# JOINTURE EXTERNE\n",
    "df6 = pd.DataFrame({'employee': ['Bob', 'Jake', 'Lisa', 'Sue', 'Lea'],\n",
    "                    'department': ['Accounting', 'Engineering', 'Engineering', 'HR', 'Engineering']})\n",
    "df2 = pd.DataFrame({'employee': ['Lisa', 'Bob', 'Jake', 'Sue'],\n",
    "                    'date': [2004, 2008, 2012, 2014]})\n",
    "pd.merge(df6, df2) # fait disparaitre LEA car non presente dans DF2\n",
    "pd.merge(df6, df2, how=\"left\") #Conserve donnés de gauche\n",
    "\n",
    "# how=right ou priorité aus données de droites\n",
    "# how=outer pour tout garder"
   ]
  },
  {
   "cell_type": "code",
   "execution_count": 27,
   "metadata": {},
   "outputs": [
    {
     "name": "stdout",
     "output_type": "stream",
     "text": [
      "  employee   department  key\n",
      "0      Bob   Accounting    0\n",
      "1     Jake  Engineering    0\n",
      "2     Lisa  Engineering    0\n",
      "3      Sue           HR    0\n",
      "  employee  date  key\n",
      "0     Lisa  2004    0\n",
      "1      Bob  2008    0\n",
      "2     Jake  2012    0\n",
      "3      Sue  2014    0\n",
      "   employee_x   department  key employee_y  date\n",
      "0         Bob   Accounting    0       Lisa  2004\n",
      "1         Bob   Accounting    0        Bob  2008\n",
      "2         Bob   Accounting    0       Jake  2012\n",
      "3         Bob   Accounting    0        Sue  2014\n",
      "4        Jake  Engineering    0       Lisa  2004\n",
      "5        Jake  Engineering    0        Bob  2008\n",
      "6        Jake  Engineering    0       Jake  2012\n",
      "7        Jake  Engineering    0        Sue  2014\n",
      "8        Lisa  Engineering    0       Lisa  2004\n",
      "9        Lisa  Engineering    0        Bob  2008\n",
      "10       Lisa  Engineering    0       Jake  2012\n",
      "11       Lisa  Engineering    0        Sue  2014\n",
      "12        Sue           HR    0       Lisa  2004\n",
      "13        Sue           HR    0        Bob  2008\n",
      "14        Sue           HR    0       Jake  2012\n",
      "15        Sue           HR    0        Sue  2014\n",
      "   employee_x   department employee_y  date\n",
      "0         Bob   Accounting       Lisa  2004\n",
      "1         Bob   Accounting        Bob  2008\n",
      "2         Bob   Accounting       Jake  2012\n",
      "3         Bob   Accounting        Sue  2014\n",
      "4        Jake  Engineering       Lisa  2004\n",
      "5        Jake  Engineering        Bob  2008\n",
      "6        Jake  Engineering       Jake  2012\n",
      "7        Jake  Engineering        Sue  2014\n",
      "8        Lisa  Engineering       Lisa  2004\n",
      "9        Lisa  Engineering        Bob  2008\n",
      "10       Lisa  Engineering       Jake  2012\n",
      "11       Lisa  Engineering        Sue  2014\n",
      "12        Sue           HR       Lisa  2004\n",
      "13        Sue           HR        Bob  2008\n",
      "14        Sue           HR       Jake  2012\n",
      "15        Sue           HR        Sue  2014\n"
     ]
    }
   ],
   "source": [
    "#PRODUIT CARTESIEN\n",
    "# Nous ajoutons une nouvelle colonne à df1 et df2, qui contient toujours\n",
    "# la même valeur, ici 0.\n",
    "df1['key'] = 0\n",
    "df2['key'] = 0\n",
    "print(df1)\n",
    "print(df2)\n",
    "\n",
    "# La jointure plusieurs-à-plusieurs\n",
    "produit_cartesien = pd.merge(df1, df2, on='key')\n",
    "print(produit_cartesien)\n",
    "\n",
    "# Effaçons la colonne key qui n'est plus utile\n",
    "produit_cartesien.drop('key',1, inplace=True)\n",
    "print(produit_cartesien)\n",
    "\n",
    "# CONDENSABLE EN UNE OPERATION !\n",
    "pd.merge(df1.assign(key=0), df2.assign(key=0), on='key').drop('key', axis=1)"
   ]
  },
  {
   "cell_type": "code",
   "execution_count": 34,
   "metadata": {},
   "outputs": [
    {
     "name": "stdout",
     "output_type": "stream",
     "text": [
      "2.811925491708157\n",
      "0.5623850983416314\n",
      "A    0.477888\n",
      "B    0.443420\n",
      "dtype: float64\n",
      "0    0.088290\n",
      "1    0.513997\n",
      "2    0.849309\n",
      "3    0.406727\n",
      "4    0.444949\n",
      "dtype: float64\n"
     ]
    }
   ],
   "source": [
    "#AGGREGATION\n",
    "rng = np.random.RandomState(42)\n",
    "\n",
    "# Une Series avec cinq nombres aléatoires\n",
    "ser = pd.Series(rng.rand(5))\n",
    "print(ser.sum())\n",
    "print(ser.mean())\n",
    "\n",
    "# pour un dataframe\n",
    "df = pd.DataFrame({'A': rng.rand(5),\n",
    "                   'B': rng.rand(5)})                 \n",
    "# Par colonne\n",
    "print(df.mean())\n",
    "# Par ligne\n",
    "print(df.mean(axis='columns'))"
   ]
  },
  {
   "cell_type": "code",
   "execution_count": 35,
   "metadata": {},
   "outputs": [
    {
     "name": "stdout",
     "output_type": "stream",
     "text": [
      "  key  data1  data2\n",
      "0   A      0     10\n",
      "1   B      1     11\n",
      "2   C      2     10\n",
      "3   A      3      9\n",
      "4   B      4     10\n",
      "5   C      5     10\n",
      "     data1  data2\n",
      "key              \n",
      "A        3     19\n",
      "B        5     21\n",
      "C        7     20\n",
      "     data1  data2\n",
      "key              \n",
      "A      1.5    9.5\n",
      "B      2.5   10.5\n",
      "C      3.5   10.0\n"
     ]
    }
   ],
   "source": [
    "df = pd.DataFrame({'key': ['A', 'B', 'C', 'A', 'B', 'C'],\n",
    "                   'data1': range(6),\n",
    "                   'data2': [10,11,10,9,10,10]})                  \n",
    "print(df)\n",
    "gb = df.groupby('key')\n",
    "\n",
    "print(gb.sum())\n",
    "print(gb.mean())"
   ]
  },
  {
   "cell_type": "code",
   "execution_count": 37,
   "metadata": {},
   "outputs": [
    {
     "name": "stdout",
     "output_type": "stream",
     "text": [
      "     data1_somme  data2_somme  data2_moyenne\n",
      "key                                         \n",
      "A              3           19            9.5\n",
      "B              5           21           10.5\n",
      "C              7           20           10.0\n"
     ]
    }
   ],
   "source": [
    "s = gb['data1','data2'].sum()\n",
    "m = gb['data2',].mean()\n",
    "\n",
    "groupped = pd.concat([s,m], axis=1)\n",
    "groupped.columns = [\"data1_somme\",\"data2_somme\",\"data2_moyenne\"]\n",
    "print(groupped)"
   ]
  },
  {
   "cell_type": "code",
   "execution_count": null,
   "metadata": {},
   "outputs": [],
   "source": []
  }
 ],
 "metadata": {
  "kernelspec": {
   "display_name": "Python 3",
   "language": "python",
   "name": "python3"
  },
  "language_info": {
   "codemirror_mode": {
    "name": "ipython",
    "version": 3
   },
   "file_extension": ".py",
   "mimetype": "text/x-python",
   "name": "python",
   "nbconvert_exporter": "python",
   "pygments_lexer": "ipython3",
   "version": "3.8.5"
  }
 },
 "nbformat": 4,
 "nbformat_minor": 2
}
